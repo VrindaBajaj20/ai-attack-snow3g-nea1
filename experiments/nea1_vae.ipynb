{
  "nbformat": 4,
  "nbformat_minor": 0,
  "metadata": {
    "colab": {
      "provenance": [],
      "authorship_tag": "ABX9TyPwSYqbefyFM0b5YX4/lX/X",
      "include_colab_link": true
    },
    "kernelspec": {
      "name": "python3",
      "display_name": "Python 3"
    },
    "language_info": {
      "name": "python"
    }
  },
  "cells": [
    {
      "cell_type": "markdown",
      "metadata": {
        "id": "view-in-github",
        "colab_type": "text"
      },
      "source": [
        "<a href=\"https://colab.research.google.com/github/VrindaBajaj20/ai-attack-snow3g-nea1/blob/main/experiments/nea1_vae.ipynb\" target=\"_parent\"><img src=\"https://colab.research.google.com/assets/colab-badge.svg\" alt=\"Open In Colab\"/></a>"
      ]
    },
    {
      "cell_type": "code",
      "execution_count": 3,
      "metadata": {
        "id": "AtXeYEFCka5x"
      },
      "outputs": [],
      "source": [
        "import pandas as pd\n",
        "import numpy as np\n",
        "import tensorflow as tf\n",
        "from tensorflow.keras.layers import Input, Dense, Lambda, Layer, Conv1D, MaxPooling1D, Flatten\n",
        "from tensorflow.keras.models import Model, Sequential\n",
        "from tensorflow.keras import backend as K\n",
        "from xgboost import XGBClassifier\n",
        "from sklearn.multioutput import MultiOutputClassifier\n",
        "from sklearn.model_selection import train_test_split\n",
        "import matplotlib.pyplot as plt\n",
        "from google.colab import files"
      ]
    },
    {
      "cell_type": "code",
      "source": [
        "print(\"Please upload the CSV file.\")\n",
        "uploaded = files.upload()\n",
        "\n",
        "file_name = list(uploaded.keys())[0]\n",
        "df = pd.read_csv(file_name)\n",
        "\n",
        "required_columns = [\"COUNT\", \"Direction\", \"Bearer ID\", \"LENGTH\", \"KEY\"]\n",
        "if not all(col in df.columns for col in required_columns):\n",
        "    raise ValueError(f\"Missing required columns: {', '.join(required_columns)}\")"
      ],
      "metadata": {
        "colab": {
          "base_uri": "https://localhost:8080/",
          "height": 88
        },
        "id": "MNuIhy3mkpZv",
        "outputId": "08392b4d-3556-4a45-f189-85c399639981"
      },
      "execution_count": 4,
      "outputs": [
        {
          "output_type": "stream",
          "name": "stdout",
          "text": [
            "Please upload the CSV file.\n"
          ]
        },
        {
          "output_type": "display_data",
          "data": {
            "text/plain": [
              "<IPython.core.display.HTML object>"
            ],
            "text/html": [
              "\n",
              "     <input type=\"file\" id=\"files-4a11838f-8d6d-4dfa-94f4-ae5d10dd4468\" name=\"files[]\" multiple disabled\n",
              "        style=\"border:none\" />\n",
              "     <output id=\"result-4a11838f-8d6d-4dfa-94f4-ae5d10dd4468\">\n",
              "      Upload widget is only available when the cell has been executed in the\n",
              "      current browser session. Please rerun this cell to enable.\n",
              "      </output>\n",
              "      <script>// Copyright 2017 Google LLC\n",
              "//\n",
              "// Licensed under the Apache License, Version 2.0 (the \"License\");\n",
              "// you may not use this file except in compliance with the License.\n",
              "// You may obtain a copy of the License at\n",
              "//\n",
              "//      http://www.apache.org/licenses/LICENSE-2.0\n",
              "//\n",
              "// Unless required by applicable law or agreed to in writing, software\n",
              "// distributed under the License is distributed on an \"AS IS\" BASIS,\n",
              "// WITHOUT WARRANTIES OR CONDITIONS OF ANY KIND, either express or implied.\n",
              "// See the License for the specific language governing permissions and\n",
              "// limitations under the License.\n",
              "\n",
              "/**\n",
              " * @fileoverview Helpers for google.colab Python module.\n",
              " */\n",
              "(function(scope) {\n",
              "function span(text, styleAttributes = {}) {\n",
              "  const element = document.createElement('span');\n",
              "  element.textContent = text;\n",
              "  for (const key of Object.keys(styleAttributes)) {\n",
              "    element.style[key] = styleAttributes[key];\n",
              "  }\n",
              "  return element;\n",
              "}\n",
              "\n",
              "// Max number of bytes which will be uploaded at a time.\n",
              "const MAX_PAYLOAD_SIZE = 100 * 1024;\n",
              "\n",
              "function _uploadFiles(inputId, outputId) {\n",
              "  const steps = uploadFilesStep(inputId, outputId);\n",
              "  const outputElement = document.getElementById(outputId);\n",
              "  // Cache steps on the outputElement to make it available for the next call\n",
              "  // to uploadFilesContinue from Python.\n",
              "  outputElement.steps = steps;\n",
              "\n",
              "  return _uploadFilesContinue(outputId);\n",
              "}\n",
              "\n",
              "// This is roughly an async generator (not supported in the browser yet),\n",
              "// where there are multiple asynchronous steps and the Python side is going\n",
              "// to poll for completion of each step.\n",
              "// This uses a Promise to block the python side on completion of each step,\n",
              "// then passes the result of the previous step as the input to the next step.\n",
              "function _uploadFilesContinue(outputId) {\n",
              "  const outputElement = document.getElementById(outputId);\n",
              "  const steps = outputElement.steps;\n",
              "\n",
              "  const next = steps.next(outputElement.lastPromiseValue);\n",
              "  return Promise.resolve(next.value.promise).then((value) => {\n",
              "    // Cache the last promise value to make it available to the next\n",
              "    // step of the generator.\n",
              "    outputElement.lastPromiseValue = value;\n",
              "    return next.value.response;\n",
              "  });\n",
              "}\n",
              "\n",
              "/**\n",
              " * Generator function which is called between each async step of the upload\n",
              " * process.\n",
              " * @param {string} inputId Element ID of the input file picker element.\n",
              " * @param {string} outputId Element ID of the output display.\n",
              " * @return {!Iterable<!Object>} Iterable of next steps.\n",
              " */\n",
              "function* uploadFilesStep(inputId, outputId) {\n",
              "  const inputElement = document.getElementById(inputId);\n",
              "  inputElement.disabled = false;\n",
              "\n",
              "  const outputElement = document.getElementById(outputId);\n",
              "  outputElement.innerHTML = '';\n",
              "\n",
              "  const pickedPromise = new Promise((resolve) => {\n",
              "    inputElement.addEventListener('change', (e) => {\n",
              "      resolve(e.target.files);\n",
              "    });\n",
              "  });\n",
              "\n",
              "  const cancel = document.createElement('button');\n",
              "  inputElement.parentElement.appendChild(cancel);\n",
              "  cancel.textContent = 'Cancel upload';\n",
              "  const cancelPromise = new Promise((resolve) => {\n",
              "    cancel.onclick = () => {\n",
              "      resolve(null);\n",
              "    };\n",
              "  });\n",
              "\n",
              "  // Wait for the user to pick the files.\n",
              "  const files = yield {\n",
              "    promise: Promise.race([pickedPromise, cancelPromise]),\n",
              "    response: {\n",
              "      action: 'starting',\n",
              "    }\n",
              "  };\n",
              "\n",
              "  cancel.remove();\n",
              "\n",
              "  // Disable the input element since further picks are not allowed.\n",
              "  inputElement.disabled = true;\n",
              "\n",
              "  if (!files) {\n",
              "    return {\n",
              "      response: {\n",
              "        action: 'complete',\n",
              "      }\n",
              "    };\n",
              "  }\n",
              "\n",
              "  for (const file of files) {\n",
              "    const li = document.createElement('li');\n",
              "    li.append(span(file.name, {fontWeight: 'bold'}));\n",
              "    li.append(span(\n",
              "        `(${file.type || 'n/a'}) - ${file.size} bytes, ` +\n",
              "        `last modified: ${\n",
              "            file.lastModifiedDate ? file.lastModifiedDate.toLocaleDateString() :\n",
              "                                    'n/a'} - `));\n",
              "    const percent = span('0% done');\n",
              "    li.appendChild(percent);\n",
              "\n",
              "    outputElement.appendChild(li);\n",
              "\n",
              "    const fileDataPromise = new Promise((resolve) => {\n",
              "      const reader = new FileReader();\n",
              "      reader.onload = (e) => {\n",
              "        resolve(e.target.result);\n",
              "      };\n",
              "      reader.readAsArrayBuffer(file);\n",
              "    });\n",
              "    // Wait for the data to be ready.\n",
              "    let fileData = yield {\n",
              "      promise: fileDataPromise,\n",
              "      response: {\n",
              "        action: 'continue',\n",
              "      }\n",
              "    };\n",
              "\n",
              "    // Use a chunked sending to avoid message size limits. See b/62115660.\n",
              "    let position = 0;\n",
              "    do {\n",
              "      const length = Math.min(fileData.byteLength - position, MAX_PAYLOAD_SIZE);\n",
              "      const chunk = new Uint8Array(fileData, position, length);\n",
              "      position += length;\n",
              "\n",
              "      const base64 = btoa(String.fromCharCode.apply(null, chunk));\n",
              "      yield {\n",
              "        response: {\n",
              "          action: 'append',\n",
              "          file: file.name,\n",
              "          data: base64,\n",
              "        },\n",
              "      };\n",
              "\n",
              "      let percentDone = fileData.byteLength === 0 ?\n",
              "          100 :\n",
              "          Math.round((position / fileData.byteLength) * 100);\n",
              "      percent.textContent = `${percentDone}% done`;\n",
              "\n",
              "    } while (position < fileData.byteLength);\n",
              "  }\n",
              "\n",
              "  // All done.\n",
              "  yield {\n",
              "    response: {\n",
              "      action: 'complete',\n",
              "    }\n",
              "  };\n",
              "}\n",
              "\n",
              "scope.google = scope.google || {};\n",
              "scope.google.colab = scope.google.colab || {};\n",
              "scope.google.colab._files = {\n",
              "  _uploadFiles,\n",
              "  _uploadFilesContinue,\n",
              "};\n",
              "})(self);\n",
              "</script> "
            ]
          },
          "metadata": {}
        },
        {
          "output_type": "stream",
          "name": "stdout",
          "text": [
            "Saving snow3g_keystream_output.csv to snow3g_keystream_output.csv\n"
          ]
        }
      ]
    },
    {
      "cell_type": "code",
      "source": [
        "# Validate required columns\n",
        "required_columns = [\"KEY\", \"Direction\", \"LENGTH\", \"COUNT\", \"Bearer ID\", \"Keystream_hex\"]\n",
        "if not all(col in df.columns for col in required_columns):\n",
        "    raise ValueError(f\"Missing required columns: {', '.join(required_columns)}\")"
      ],
      "metadata": {
        "id": "2DgUMQ9pks9h"
      },
      "execution_count": 5,
      "outputs": []
    },
    {
      "cell_type": "code",
      "source": [
        "# --- Step 3: Hex to bits conversion ---\n",
        "def hex_to_bits(hex_str):\n",
        "    # Sometimes your column may have float format; convert to str first\n",
        "    hex_str = str(hex_str).split('E')[0]  # remove scientific notation if present\n",
        "    return np.array([int(b) for b in bin(int(hex_str, 16))[2:].zfill(128)])\n",
        "\n",
        "# Apply conversion to columns\n",
        "df['Keystream_bits'] = df['Keystream_hex'].apply(hex_to_bits)\n",
        "df['Key_bits'] = df['KEY'].apply(hex_to_bits)\n",
        "\n",
        "X = np.stack(df['Keystream_bits'].values).astype(np.float32)\n",
        "y = np.stack(df['Key_bits'].values).astype(np.int32)\n",
        "\n",
        "X_train, X_test, y_train, y_test = train_test_split(X, y, test_size=0.2, random_state=42)"
      ],
      "metadata": {
        "id": "xSt9aSKYkv5K"
      },
      "execution_count": 6,
      "outputs": []
    },
    {
      "cell_type": "code",
      "source": [
        "# === Step 3: Define Sampling and KL Loss ===\n",
        "latent_dim = 32\n",
        "input_dim = 128\n",
        "\n",
        "def sampling(args):\n",
        "    z_mean, z_log_var = args\n",
        "    epsilon = tf.random.normal(shape=tf.shape(z_mean))\n",
        "    return z_mean + tf.exp(0.5 * z_log_var) * epsilon\n",
        "\n",
        "class KLLossLayer(Layer):\n",
        "    def call(self, inputs):\n",
        "        z_mean, z_log_var = inputs\n",
        "        kl_loss = -0.5 * K.sum(1 + z_log_var - K.square(z_mean) - K.exp(z_log_var), axis=-1)\n",
        "        self.add_loss(K.mean(kl_loss))\n",
        "        return inputs\n"
      ],
      "metadata": {
        "id": "D9aX436Yk57E"
      },
      "execution_count": 7,
      "outputs": []
    },
    {
      "cell_type": "code",
      "source": [
        "# Encoder\n",
        "inputs = Input(shape=(input_dim,))\n",
        "h = Dense(64, activation='relu')(inputs)\n",
        "z_mean = Dense(latent_dim)(h)\n",
        "z_log_var = Dense(latent_dim)(h)\n",
        "z = Lambda(sampling)([z_mean, z_log_var])\n",
        "KLLossLayer()([z_mean, z_log_var])  # adds KL loss\n",
        "\n",
        "# Decoder\n",
        "decoder_h = Dense(64, activation='relu')\n",
        "decoder_out = Dense(input_dim, activation='sigmoid')\n",
        "outputs = decoder_out(decoder_h(z))"
      ],
      "metadata": {
        "id": "aauR91-xl35Y"
      },
      "execution_count": 8,
      "outputs": []
    },
    {
      "cell_type": "code",
      "source": [
        "# VAE model\n",
        "vae = Model(inputs, outputs)\n",
        "vae.compile(optimizer='adam', loss='binary_crossentropy')\n",
        "vae.fit(X_train, X_train, epochs=30, batch_size=128, validation_data=(X_test, X_test))"
      ],
      "metadata": {
        "colab": {
          "base_uri": "https://localhost:8080/"
        },
        "id": "kJyJCBAblA0t",
        "outputId": "891d1119-3809-4170-f90d-aa6160a3292b"
      },
      "execution_count": 9,
      "outputs": [
        {
          "output_type": "stream",
          "name": "stdout",
          "text": [
            "Epoch 1/30\n",
            "\u001b[1m1/1\u001b[0m \u001b[32m━━━━━━━━━━━━━━━━━━━━\u001b[0m\u001b[37m\u001b[0m \u001b[1m3s\u001b[0m 3s/step - loss: 0.7325 - val_loss: 0.7257\n",
            "Epoch 2/30\n",
            "\u001b[1m1/1\u001b[0m \u001b[32m━━━━━━━━━━━━━━━━━━━━\u001b[0m\u001b[37m\u001b[0m \u001b[1m0s\u001b[0m 93ms/step - loss: 0.7242 - val_loss: 0.7222\n",
            "Epoch 3/30\n",
            "\u001b[1m1/1\u001b[0m \u001b[32m━━━━━━━━━━━━━━━━━━━━\u001b[0m\u001b[37m\u001b[0m \u001b[1m0s\u001b[0m 85ms/step - loss: 0.7220 - val_loss: 0.7106\n",
            "Epoch 4/30\n",
            "\u001b[1m1/1\u001b[0m \u001b[32m━━━━━━━━━━━━━━━━━━━━\u001b[0m\u001b[37m\u001b[0m \u001b[1m0s\u001b[0m 80ms/step - loss: 0.7141 - val_loss: 0.7135\n",
            "Epoch 5/30\n",
            "\u001b[1m1/1\u001b[0m \u001b[32m━━━━━━━━━━━━━━━━━━━━\u001b[0m\u001b[37m\u001b[0m \u001b[1m0s\u001b[0m 79ms/step - loss: 0.7113 - val_loss: 0.7170\n",
            "Epoch 6/30\n",
            "\u001b[1m1/1\u001b[0m \u001b[32m━━━━━━━━━━━━━━━━━━━━\u001b[0m\u001b[37m\u001b[0m \u001b[1m0s\u001b[0m 143ms/step - loss: 0.7115 - val_loss: 0.7158\n",
            "Epoch 7/30\n",
            "\u001b[1m1/1\u001b[0m \u001b[32m━━━━━━━━━━━━━━━━━━━━\u001b[0m\u001b[37m\u001b[0m \u001b[1m0s\u001b[0m 82ms/step - loss: 0.7045 - val_loss: 0.7109\n",
            "Epoch 8/30\n",
            "\u001b[1m1/1\u001b[0m \u001b[32m━━━━━━━━━━━━━━━━━━━━\u001b[0m\u001b[37m\u001b[0m \u001b[1m0s\u001b[0m 84ms/step - loss: 0.7075 - val_loss: 0.7052\n",
            "Epoch 9/30\n",
            "\u001b[1m1/1\u001b[0m \u001b[32m━━━━━━━━━━━━━━━━━━━━\u001b[0m\u001b[37m\u001b[0m \u001b[1m0s\u001b[0m 83ms/step - loss: 0.7043 - val_loss: 0.7094\n",
            "Epoch 10/30\n",
            "\u001b[1m1/1\u001b[0m \u001b[32m━━━━━━━━━━━━━━━━━━━━\u001b[0m\u001b[37m\u001b[0m \u001b[1m0s\u001b[0m 81ms/step - loss: 0.7049 - val_loss: 0.7105\n",
            "Epoch 11/30\n",
            "\u001b[1m1/1\u001b[0m \u001b[32m━━━━━━━━━━━━━━━━━━━━\u001b[0m\u001b[37m\u001b[0m \u001b[1m0s\u001b[0m 87ms/step - loss: 0.7030 - val_loss: 0.7059\n",
            "Epoch 12/30\n",
            "\u001b[1m1/1\u001b[0m \u001b[32m━━━━━━━━━━━━━━━━━━━━\u001b[0m\u001b[37m\u001b[0m \u001b[1m0s\u001b[0m 81ms/step - loss: 0.7011 - val_loss: 0.7073\n",
            "Epoch 13/30\n",
            "\u001b[1m1/1\u001b[0m \u001b[32m━━━━━━━━━━━━━━━━━━━━\u001b[0m\u001b[37m\u001b[0m \u001b[1m0s\u001b[0m 97ms/step - loss: 0.6985 - val_loss: 0.6995\n",
            "Epoch 14/30\n",
            "\u001b[1m1/1\u001b[0m \u001b[32m━━━━━━━━━━━━━━━━━━━━\u001b[0m\u001b[37m\u001b[0m \u001b[1m0s\u001b[0m 126ms/step - loss: 0.6983 - val_loss: 0.6984\n",
            "Epoch 15/30\n",
            "\u001b[1m1/1\u001b[0m \u001b[32m━━━━━━━━━━━━━━━━━━━━\u001b[0m\u001b[37m\u001b[0m \u001b[1m0s\u001b[0m 80ms/step - loss: 0.6965 - val_loss: 0.7019\n",
            "Epoch 16/30\n",
            "\u001b[1m1/1\u001b[0m \u001b[32m━━━━━━━━━━━━━━━━━━━━\u001b[0m\u001b[37m\u001b[0m \u001b[1m0s\u001b[0m 84ms/step - loss: 0.6978 - val_loss: 0.7021\n",
            "Epoch 17/30\n",
            "\u001b[1m1/1\u001b[0m \u001b[32m━━━━━━━━━━━━━━━━━━━━\u001b[0m\u001b[37m\u001b[0m \u001b[1m0s\u001b[0m 85ms/step - loss: 0.6961 - val_loss: 0.7008\n",
            "Epoch 18/30\n",
            "\u001b[1m1/1\u001b[0m \u001b[32m━━━━━━━━━━━━━━━━━━━━\u001b[0m\u001b[37m\u001b[0m \u001b[1m0s\u001b[0m 82ms/step - loss: 0.6922 - val_loss: 0.6971\n",
            "Epoch 19/30\n",
            "\u001b[1m1/1\u001b[0m \u001b[32m━━━━━━━━━━━━━━━━━━━━\u001b[0m\u001b[37m\u001b[0m \u001b[1m0s\u001b[0m 82ms/step - loss: 0.6938 - val_loss: 0.7019\n",
            "Epoch 20/30\n",
            "\u001b[1m1/1\u001b[0m \u001b[32m━━━━━━━━━━━━━━━━━━━━\u001b[0m\u001b[37m\u001b[0m \u001b[1m0s\u001b[0m 90ms/step - loss: 0.6920 - val_loss: 0.6987\n",
            "Epoch 21/30\n",
            "\u001b[1m1/1\u001b[0m \u001b[32m━━━━━━━━━━━━━━━━━━━━\u001b[0m\u001b[37m\u001b[0m \u001b[1m0s\u001b[0m 85ms/step - loss: 0.6925 - val_loss: 0.6991\n",
            "Epoch 22/30\n",
            "\u001b[1m1/1\u001b[0m \u001b[32m━━━━━━━━━━━━━━━━━━━━\u001b[0m\u001b[37m\u001b[0m \u001b[1m0s\u001b[0m 87ms/step - loss: 0.6917 - val_loss: 0.6976\n",
            "Epoch 23/30\n",
            "\u001b[1m1/1\u001b[0m \u001b[32m━━━━━━━━━━━━━━━━━━━━\u001b[0m\u001b[37m\u001b[0m \u001b[1m0s\u001b[0m 86ms/step - loss: 0.6899 - val_loss: 0.6934\n",
            "Epoch 24/30\n",
            "\u001b[1m1/1\u001b[0m \u001b[32m━━━━━━━━━━━━━━━━━━━━\u001b[0m\u001b[37m\u001b[0m \u001b[1m0s\u001b[0m 126ms/step - loss: 0.6891 - val_loss: 0.6978\n",
            "Epoch 25/30\n",
            "\u001b[1m1/1\u001b[0m \u001b[32m━━━━━━━━━━━━━━━━━━━━\u001b[0m\u001b[37m\u001b[0m \u001b[1m0s\u001b[0m 81ms/step - loss: 0.6890 - val_loss: 0.6981\n",
            "Epoch 26/30\n",
            "\u001b[1m1/1\u001b[0m \u001b[32m━━━━━━━━━━━━━━━━━━━━\u001b[0m\u001b[37m\u001b[0m \u001b[1m0s\u001b[0m 86ms/step - loss: 0.6882 - val_loss: 0.6935\n",
            "Epoch 27/30\n",
            "\u001b[1m1/1\u001b[0m \u001b[32m━━━━━━━━━━━━━━━━━━━━\u001b[0m\u001b[37m\u001b[0m \u001b[1m0s\u001b[0m 84ms/step - loss: 0.6887 - val_loss: 0.6973\n",
            "Epoch 28/30\n",
            "\u001b[1m1/1\u001b[0m \u001b[32m━━━━━━━━━━━━━━━━━━━━\u001b[0m\u001b[37m\u001b[0m \u001b[1m0s\u001b[0m 83ms/step - loss: 0.6874 - val_loss: 0.6945\n",
            "Epoch 29/30\n",
            "\u001b[1m1/1\u001b[0m \u001b[32m━━━━━━━━━━━━━━━━━━━━\u001b[0m\u001b[37m\u001b[0m \u001b[1m0s\u001b[0m 84ms/step - loss: 0.6880 - val_loss: 0.6963\n",
            "Epoch 30/30\n",
            "\u001b[1m1/1\u001b[0m \u001b[32m━━━━━━━━━━━━━━━━━━━━\u001b[0m\u001b[37m\u001b[0m \u001b[1m0s\u001b[0m 84ms/step - loss: 0.6863 - val_loss: 0.6972\n"
          ]
        },
        {
          "output_type": "execute_result",
          "data": {
            "text/plain": [
              "<keras.src.callbacks.history.History at 0x7a3f8c157380>"
            ]
          },
          "metadata": {},
          "execution_count": 9
        }
      ]
    },
    {
      "cell_type": "code",
      "source": [
        "# Latent vectors\n",
        "encoder = Model(inputs, z)\n",
        "z_train = encoder.predict(X_train)\n",
        "z_test = encoder.predict(X_test)"
      ],
      "metadata": {
        "colab": {
          "base_uri": "https://localhost:8080/"
        },
        "id": "zVDOausUmFkH",
        "outputId": "66f965e1-1508-4e02-dabf-59c541c9fed9"
      },
      "execution_count": 10,
      "outputs": [
        {
          "output_type": "stream",
          "name": "stdout",
          "text": [
            "\u001b[1m3/3\u001b[0m \u001b[32m━━━━━━━━━━━━━━━━━━━━\u001b[0m\u001b[37m\u001b[0m \u001b[1m0s\u001b[0m 27ms/step\n",
            "\u001b[1m1/1\u001b[0m \u001b[32m━━━━━━━━━━━━━━━━━━━━\u001b[0m\u001b[37m\u001b[0m \u001b[1m0s\u001b[0m 33ms/step\n"
          ]
        }
      ]
    },
    {
      "cell_type": "code",
      "source": [
        "# === CNN on Latent Features ===\n",
        "z_train_cnn = z_train.reshape(-1, latent_dim, 1)\n",
        "z_test_cnn = z_test.reshape(-1, latent_dim, 1)\n",
        "\n",
        "cnn_model = Sequential([\n",
        "    Conv1D(32, 3, activation='relu', input_shape=(latent_dim, 1)),\n",
        "    MaxPooling1D(2),\n",
        "    Conv1D(64, 3, activation='relu'),\n",
        "    MaxPooling1D(2),\n",
        "    Flatten(),\n",
        "    Dense(128, activation='sigmoid')  # 128-bit output\n",
        "])\n",
        "cnn_model.compile(optimizer='adam', loss='binary_crossentropy', metrics=['accuracy'])\n",
        "cnn_model.fit(z_train_cnn, y_train, epochs=30, batch_size=128, validation_data=(z_test_cnn, y_test))\n"
      ],
      "metadata": {
        "colab": {
          "base_uri": "https://localhost:8080/"
        },
        "id": "f70M8EI_mgt8",
        "outputId": "4a5eda0e-461b-4cbb-939e-cfbe416466c2"
      },
      "execution_count": 11,
      "outputs": [
        {
          "output_type": "stream",
          "name": "stdout",
          "text": [
            "Epoch 1/30\n"
          ]
        },
        {
          "output_type": "stream",
          "name": "stderr",
          "text": [
            "/usr/local/lib/python3.12/dist-packages/keras/src/layers/convolutional/base_conv.py:113: UserWarning: Do not pass an `input_shape`/`input_dim` argument to a layer. When using Sequential models, prefer using an `Input(shape)` object as the first layer in the model instead.\n",
            "  super().__init__(activity_regularizer=activity_regularizer, **kwargs)\n"
          ]
        },
        {
          "output_type": "stream",
          "name": "stdout",
          "text": [
            "\u001b[1m1/1\u001b[0m \u001b[32m━━━━━━━━━━━━━━━━━━━━\u001b[0m\u001b[37m\u001b[0m \u001b[1m2s\u001b[0m 2s/step - accuracy: 0.0000e+00 - loss: 0.7010 - val_accuracy: 0.0000e+00 - val_loss: 0.7002\n",
            "Epoch 2/30\n",
            "\u001b[1m1/1\u001b[0m \u001b[32m━━━━━━━━━━━━━━━━━━━━\u001b[0m\u001b[37m\u001b[0m \u001b[1m0s\u001b[0m 85ms/step - accuracy: 0.0000e+00 - loss: 0.6967 - val_accuracy: 0.0000e+00 - val_loss: 0.6991\n",
            "Epoch 3/30\n",
            "\u001b[1m1/1\u001b[0m \u001b[32m━━━━━━━━━━━━━━━━━━━━\u001b[0m\u001b[37m\u001b[0m \u001b[1m0s\u001b[0m 83ms/step - accuracy: 0.0000e+00 - loss: 0.6933 - val_accuracy: 0.0000e+00 - val_loss: 0.6986\n",
            "Epoch 4/30\n",
            "\u001b[1m1/1\u001b[0m \u001b[32m━━━━━━━━━━━━━━━━━━━━\u001b[0m\u001b[37m\u001b[0m \u001b[1m0s\u001b[0m 84ms/step - accuracy: 0.0000e+00 - loss: 0.6906 - val_accuracy: 0.0000e+00 - val_loss: 0.6985\n",
            "Epoch 5/30\n",
            "\u001b[1m1/1\u001b[0m \u001b[32m━━━━━━━━━━━━━━━━━━━━\u001b[0m\u001b[37m\u001b[0m \u001b[1m0s\u001b[0m 85ms/step - accuracy: 0.0250 - loss: 0.6883 - val_accuracy: 0.0000e+00 - val_loss: 0.6987\n",
            "Epoch 6/30\n",
            "\u001b[1m1/1\u001b[0m \u001b[32m━━━━━━━━━━━━━━━━━━━━\u001b[0m\u001b[37m\u001b[0m \u001b[1m0s\u001b[0m 85ms/step - accuracy: 0.0875 - loss: 0.6863 - val_accuracy: 0.0000e+00 - val_loss: 0.6991\n",
            "Epoch 7/30\n",
            "\u001b[1m1/1\u001b[0m \u001b[32m━━━━━━━━━━━━━━━━━━━━\u001b[0m\u001b[37m\u001b[0m \u001b[1m0s\u001b[0m 83ms/step - accuracy: 0.0875 - loss: 0.6845 - val_accuracy: 0.0000e+00 - val_loss: 0.6997\n",
            "Epoch 8/30\n",
            "\u001b[1m1/1\u001b[0m \u001b[32m━━━━━━━━━━━━━━━━━━━━\u001b[0m\u001b[37m\u001b[0m \u001b[1m0s\u001b[0m 82ms/step - accuracy: 0.1000 - loss: 0.6830 - val_accuracy: 0.0000e+00 - val_loss: 0.7005\n",
            "Epoch 9/30\n",
            "\u001b[1m1/1\u001b[0m \u001b[32m━━━━━━━━━━━━━━━━━━━━\u001b[0m\u001b[37m\u001b[0m \u001b[1m0s\u001b[0m 96ms/step - accuracy: 0.1000 - loss: 0.6815 - val_accuracy: 0.0000e+00 - val_loss: 0.7013\n",
            "Epoch 10/30\n",
            "\u001b[1m1/1\u001b[0m \u001b[32m━━━━━━━━━━━━━━━━━━━━\u001b[0m\u001b[37m\u001b[0m \u001b[1m0s\u001b[0m 87ms/step - accuracy: 0.0875 - loss: 0.6801 - val_accuracy: 0.0000e+00 - val_loss: 0.7021\n",
            "Epoch 11/30\n",
            "\u001b[1m1/1\u001b[0m \u001b[32m━━━━━━━━━━━━━━━━━━━━\u001b[0m\u001b[37m\u001b[0m \u001b[1m0s\u001b[0m 86ms/step - accuracy: 0.0750 - loss: 0.6788 - val_accuracy: 0.0000e+00 - val_loss: 0.7029\n",
            "Epoch 12/30\n",
            "\u001b[1m1/1\u001b[0m \u001b[32m━━━━━━━━━━━━━━━━━━━━\u001b[0m\u001b[37m\u001b[0m \u001b[1m0s\u001b[0m 82ms/step - accuracy: 0.0500 - loss: 0.6776 - val_accuracy: 0.0000e+00 - val_loss: 0.7036\n",
            "Epoch 13/30\n",
            "\u001b[1m1/1\u001b[0m \u001b[32m━━━━━━━━━━━━━━━━━━━━\u001b[0m\u001b[37m\u001b[0m \u001b[1m0s\u001b[0m 82ms/step - accuracy: 0.0500 - loss: 0.6763 - val_accuracy: 0.0000e+00 - val_loss: 0.7042\n",
            "Epoch 14/30\n",
            "\u001b[1m1/1\u001b[0m \u001b[32m━━━━━━━━━━━━━━━━━━━━\u001b[0m\u001b[37m\u001b[0m \u001b[1m0s\u001b[0m 84ms/step - accuracy: 0.0375 - loss: 0.6751 - val_accuracy: 0.0000e+00 - val_loss: 0.7046\n",
            "Epoch 15/30\n",
            "\u001b[1m1/1\u001b[0m \u001b[32m━━━━━━━━━━━━━━━━━━━━\u001b[0m\u001b[37m\u001b[0m \u001b[1m0s\u001b[0m 83ms/step - accuracy: 0.0250 - loss: 0.6737 - val_accuracy: 0.0000e+00 - val_loss: 0.7049\n",
            "Epoch 16/30\n",
            "\u001b[1m1/1\u001b[0m \u001b[32m━━━━━━━━━━━━━━━━━━━━\u001b[0m\u001b[37m\u001b[0m \u001b[1m0s\u001b[0m 85ms/step - accuracy: 0.0250 - loss: 0.6724 - val_accuracy: 0.0000e+00 - val_loss: 0.7050\n",
            "Epoch 17/30\n",
            "\u001b[1m1/1\u001b[0m \u001b[32m━━━━━━━━━━━━━━━━━━━━\u001b[0m\u001b[37m\u001b[0m \u001b[1m0s\u001b[0m 85ms/step - accuracy: 0.0250 - loss: 0.6709 - val_accuracy: 0.0000e+00 - val_loss: 0.7050\n",
            "Epoch 18/30\n",
            "\u001b[1m1/1\u001b[0m \u001b[32m━━━━━━━━━━━━━━━━━━━━\u001b[0m\u001b[37m\u001b[0m \u001b[1m0s\u001b[0m 87ms/step - accuracy: 0.0125 - loss: 0.6695 - val_accuracy: 0.0000e+00 - val_loss: 0.7049\n",
            "Epoch 19/30\n",
            "\u001b[1m1/1\u001b[0m \u001b[32m━━━━━━━━━━━━━━━━━━━━\u001b[0m\u001b[37m\u001b[0m \u001b[1m0s\u001b[0m 82ms/step - accuracy: 0.0125 - loss: 0.6679 - val_accuracy: 0.0000e+00 - val_loss: 0.7048\n",
            "Epoch 20/30\n",
            "\u001b[1m1/1\u001b[0m \u001b[32m━━━━━━━━━━━━━━━━━━━━\u001b[0m\u001b[37m\u001b[0m \u001b[1m0s\u001b[0m 138ms/step - accuracy: 0.0000e+00 - loss: 0.6663 - val_accuracy: 0.0000e+00 - val_loss: 0.7047\n",
            "Epoch 21/30\n",
            "\u001b[1m1/1\u001b[0m \u001b[32m━━━━━━━━━━━━━━━━━━━━\u001b[0m\u001b[37m\u001b[0m \u001b[1m0s\u001b[0m 85ms/step - accuracy: 0.0000e+00 - loss: 0.6646 - val_accuracy: 0.0000e+00 - val_loss: 0.7046\n",
            "Epoch 22/30\n",
            "\u001b[1m1/1\u001b[0m \u001b[32m━━━━━━━━━━━━━━━━━━━━\u001b[0m\u001b[37m\u001b[0m \u001b[1m0s\u001b[0m 86ms/step - accuracy: 0.0000e+00 - loss: 0.6628 - val_accuracy: 0.0000e+00 - val_loss: 0.7046\n",
            "Epoch 23/30\n",
            "\u001b[1m1/1\u001b[0m \u001b[32m━━━━━━━━━━━━━━━━━━━━\u001b[0m\u001b[37m\u001b[0m \u001b[1m0s\u001b[0m 86ms/step - accuracy: 0.0000e+00 - loss: 0.6609 - val_accuracy: 0.0000e+00 - val_loss: 0.7047\n",
            "Epoch 24/30\n",
            "\u001b[1m1/1\u001b[0m \u001b[32m━━━━━━━━━━━━━━━━━━━━\u001b[0m\u001b[37m\u001b[0m \u001b[1m0s\u001b[0m 83ms/step - accuracy: 0.0125 - loss: 0.6590 - val_accuracy: 0.0000e+00 - val_loss: 0.7048\n",
            "Epoch 25/30\n",
            "\u001b[1m1/1\u001b[0m \u001b[32m━━━━━━━━━━━━━━━━━━━━\u001b[0m\u001b[37m\u001b[0m \u001b[1m0s\u001b[0m 86ms/step - accuracy: 0.0125 - loss: 0.6570 - val_accuracy: 0.0000e+00 - val_loss: 0.7051\n",
            "Epoch 26/30\n",
            "\u001b[1m1/1\u001b[0m \u001b[32m━━━━━━━━━━━━━━━━━━━━\u001b[0m\u001b[37m\u001b[0m \u001b[1m0s\u001b[0m 85ms/step - accuracy: 0.0375 - loss: 0.6548 - val_accuracy: 0.0000e+00 - val_loss: 0.7055\n",
            "Epoch 27/30\n",
            "\u001b[1m1/1\u001b[0m \u001b[32m━━━━━━━━━━━━━━━━━━━━\u001b[0m\u001b[37m\u001b[0m \u001b[1m0s\u001b[0m 83ms/step - accuracy: 0.0500 - loss: 0.6526 - val_accuracy: 0.0000e+00 - val_loss: 0.7060\n",
            "Epoch 28/30\n",
            "\u001b[1m1/1\u001b[0m \u001b[32m━━━━━━━━━━━━━━━━━━━━\u001b[0m\u001b[37m\u001b[0m \u001b[1m0s\u001b[0m 89ms/step - accuracy: 0.0625 - loss: 0.6503 - val_accuracy: 0.0000e+00 - val_loss: 0.7066\n",
            "Epoch 29/30\n",
            "\u001b[1m1/1\u001b[0m \u001b[32m━━━━━━━━━━━━━━━━━━━━\u001b[0m\u001b[37m\u001b[0m \u001b[1m0s\u001b[0m 83ms/step - accuracy: 0.0625 - loss: 0.6478 - val_accuracy: 0.0000e+00 - val_loss: 0.7073\n",
            "Epoch 30/30\n",
            "\u001b[1m1/1\u001b[0m \u001b[32m━━━━━━━━━━━━━━━━━━━━\u001b[0m\u001b[37m\u001b[0m \u001b[1m0s\u001b[0m 83ms/step - accuracy: 0.0625 - loss: 0.6453 - val_accuracy: 0.0000e+00 - val_loss: 0.7079\n"
          ]
        },
        {
          "output_type": "execute_result",
          "data": {
            "text/plain": [
              "<keras.src.callbacks.history.History at 0x7a3f72f2e090>"
            ]
          },
          "metadata": {},
          "execution_count": 11
        }
      ]
    },
    {
      "cell_type": "code",
      "source": [
        "\n",
        "# === XGBoost on Latent Features ===\n",
        "xgb_latent = MultiOutputClassifier(XGBClassifier(n_estimators=200, n_jobs=-1, verbosity=0))\n",
        "xgb_latent.fit(z_train, y_train)\n",
        "y_pred_latent = xgb_latent.predict(z_test)"
      ],
      "metadata": {
        "id": "iLt2TCkKmoZA"
      },
      "execution_count": 12,
      "outputs": []
    },
    {
      "cell_type": "code",
      "source": [
        "# === VAE Reconstruction ===\n",
        "y_pred_vae = (vae.predict(X_test) > 0.5).astype(int)"
      ],
      "metadata": {
        "colab": {
          "base_uri": "https://localhost:8080/"
        },
        "id": "dABstKMOoIkb",
        "outputId": "be079a9d-5c5f-43e3-f118-487c0240f4b8"
      },
      "execution_count": 13,
      "outputs": [
        {
          "output_type": "stream",
          "name": "stdout",
          "text": [
            "\u001b[1m1/1\u001b[0m \u001b[32m━━━━━━━━━━━━━━━━━━━━\u001b[0m\u001b[37m\u001b[0m \u001b[1m0s\u001b[0m 80ms/step\n"
          ]
        }
      ]
    },
    {
      "cell_type": "code",
      "source": [
        "# === Bitwise Accuracy ===\n",
        "bitwise_acc_vae = np.mean(y_pred_vae == y_test, axis=0)\n",
        "bitwise_acc_cnn = np.mean((cnn_model.predict(z_test_cnn) > 0.5).astype(int) == y_test, axis=0)\n",
        "bitwise_acc_latent = np.mean(y_pred_latent == y_test, axis=0)"
      ],
      "metadata": {
        "colab": {
          "base_uri": "https://localhost:8080/"
        },
        "id": "11k2ty3-msKV",
        "outputId": "4977630b-60be-4d57-908c-99b61334f220"
      },
      "execution_count": 14,
      "outputs": [
        {
          "output_type": "stream",
          "name": "stdout",
          "text": [
            "\u001b[1m1/1\u001b[0m \u001b[32m━━━━━━━━━━━━━━━━━━━━\u001b[0m\u001b[37m\u001b[0m \u001b[1m0s\u001b[0m 99ms/step\n"
          ]
        }
      ]
    },
    {
      "cell_type": "code",
      "source": [
        "# Fusion (VAE + XGBoost latent)\n",
        "y_fused = ((y_pred_vae + y_pred_latent)/2) > 0.5\n",
        "bitwise_acc_fused = np.mean(y_fused == y_test, axis=0)"
      ],
      "metadata": {
        "id": "ODRGrvHZoQp2"
      },
      "execution_count": 15,
      "outputs": []
    },
    {
      "cell_type": "code",
      "source": [
        "# === PRINT RESULTS ===\n",
        "print(f\"VAE Bitwise Accuracy per bit:\\n{bitwise_acc_vae}\")\n",
        "print(f\"CNN on Latent Bitwise Accuracy per bit:\\n{bitwise_acc_cnn}\")\n",
        "print(f\"XGBoost Latent Bitwise Accuracy per bit:\\n{bitwise_acc_latent}\")\n",
        "print(f\"VAE + XGBoost Fusion Bitwise Accuracy per bit:\\n{bitwise_acc_fused}\")"
      ],
      "metadata": {
        "colab": {
          "base_uri": "https://localhost:8080/"
        },
        "id": "4WRTB1OyoRjA",
        "outputId": "6a9dbc76-beb0-414d-a567-3b960b516e27"
      },
      "execution_count": 16,
      "outputs": [
        {
          "output_type": "stream",
          "name": "stdout",
          "text": [
            "VAE Bitwise Accuracy per bit:\n",
            "[0.6  0.5  0.65 0.5  0.45 0.4  0.45 0.65 0.55 0.4  0.4  0.45 0.45 0.65\n",
            " 0.65 0.45 0.5  0.35 0.6  0.35 0.55 0.6  0.6  0.65 0.5  0.3  0.55 0.5\n",
            " 0.5  0.5  0.7  0.65 0.45 0.55 0.45 0.3  0.45 0.25 0.35 0.6  0.4  0.35\n",
            " 0.55 0.5  0.7  0.55 0.55 0.45 0.25 0.6  0.3  0.55 0.5  0.35 0.5  0.5\n",
            " 0.6  0.5  0.5  0.6  0.3  0.55 0.6  0.55 0.45 0.6  0.45 0.65 0.45 0.7\n",
            " 0.55 0.35 0.45 0.4  0.4  0.6  0.55 0.3  0.4  0.3  0.35 0.55 0.4  0.6\n",
            " 0.55 0.6  0.6  0.4  0.6  0.7  0.65 0.5  0.5  0.5  0.35 0.5  0.65 0.4\n",
            " 0.5  0.5  0.4  0.65 0.4  0.6  0.5  0.5  0.55 0.45 0.65 0.4  0.4  0.35\n",
            " 0.65 0.6  0.75 0.35 0.7  0.5  0.5  0.6  0.45 0.45 0.55 0.55 0.65 0.45\n",
            " 0.35 0.65]\n",
            "CNN on Latent Bitwise Accuracy per bit:\n",
            "[0.4  0.5  0.55 0.45 0.45 0.5  0.55 0.5  0.35 0.35 0.6  0.55 0.45 0.45\n",
            " 0.55 0.5  0.5  0.5  0.6  0.45 0.5  0.7  0.4  0.35 0.4  0.55 0.65 0.45\n",
            " 0.25 0.5  0.35 0.45 0.6  0.45 0.5  0.3  0.4  0.5  0.65 0.6  0.45 0.55\n",
            " 0.4  0.35 0.4  0.45 0.4  0.55 0.5  0.5  0.5  0.55 0.5  0.8  0.5  0.45\n",
            " 0.5  0.4  0.55 0.5  0.5  0.35 0.5  0.4  0.3  0.5  0.7  0.4  0.6  0.35\n",
            " 0.4  0.45 0.65 0.45 0.4  0.5  0.45 0.3  0.35 0.5  0.4  0.5  0.5  0.3\n",
            " 0.35 0.55 0.75 0.6  0.55 0.65 0.5  0.5  0.5  0.7  0.45 0.35 0.6  0.45\n",
            " 0.6  0.4  0.65 0.45 0.55 0.35 0.4  0.6  0.35 0.5  0.5  0.4  0.55 0.55\n",
            " 0.55 0.4  0.4  0.55 0.55 0.5  0.45 0.45 0.45 0.4  0.75 0.45 0.55 0.2\n",
            " 0.55 0.45]\n",
            "XGBoost Latent Bitwise Accuracy per bit:\n",
            "[0.4  0.45 0.55 0.6  0.4  0.55 0.3  0.4  0.55 0.4  0.5  0.45 0.6  0.55\n",
            " 0.6  0.6  0.5  0.5  0.75 0.4  0.4  0.5  0.4  0.4  0.5  0.35 0.3  0.5\n",
            " 0.35 0.45 0.5  0.6  0.35 0.5  0.45 0.6  0.3  0.5  0.6  0.6  0.25 0.6\n",
            " 0.4  0.5  0.65 0.55 0.65 0.75 0.6  0.65 0.4  0.4  0.55 0.6  0.6  0.55\n",
            " 0.6  0.55 0.45 0.45 0.5  0.55 0.7  0.5  0.45 0.6  0.8  0.55 0.45 0.5\n",
            " 0.45 0.25 0.65 0.45 0.35 0.4  0.55 0.35 0.45 0.5  0.55 0.4  0.5  0.35\n",
            " 0.5  0.6  0.55 0.65 0.55 0.45 0.65 0.45 0.55 0.5  0.35 0.35 0.55 0.5\n",
            " 0.55 0.5  0.5  0.55 0.4  0.5  0.4  0.45 0.35 0.55 0.4  0.35 0.2  0.55\n",
            " 0.55 0.5  0.45 0.75 0.55 0.6  0.4  0.5  0.4  0.3  0.75 0.3  0.5  0.35\n",
            " 0.3  0.6 ]\n",
            "VAE + XGBoost Fusion Bitwise Accuracy per bit:\n",
            "[0.45 0.5  0.45 0.55 0.45 0.5  0.35 0.6  0.55 0.4  0.5  0.55 0.45 0.7\n",
            " 0.7  0.45 0.35 0.35 0.6  0.3  0.5  0.45 0.5  0.4  0.4  0.4  0.45 0.5\n",
            " 0.55 0.5  0.45 0.65 0.3  0.5  0.45 0.3  0.3  0.3  0.55 0.6  0.3  0.6\n",
            " 0.4  0.45 0.65 0.5  0.5  0.65 0.5  0.6  0.35 0.5  0.5  0.6  0.55 0.6\n",
            " 0.55 0.6  0.5  0.5  0.45 0.45 0.55 0.55 0.45 0.65 0.75 0.55 0.5  0.6\n",
            " 0.6  0.35 0.65 0.55 0.35 0.45 0.45 0.3  0.3  0.35 0.55 0.5  0.4  0.2\n",
            " 0.4  0.65 0.65 0.6  0.6  0.4  0.65 0.45 0.6  0.45 0.4  0.4  0.55 0.4\n",
            " 0.45 0.4  0.55 0.65 0.45 0.5  0.45 0.45 0.5  0.45 0.45 0.3  0.4  0.45\n",
            " 0.6  0.5  0.75 0.75 0.65 0.55 0.55 0.45 0.4  0.45 0.55 0.35 0.6  0.5\n",
            " 0.35 0.55]\n"
          ]
        }
      ]
    },
    {
      "cell_type": "code",
      "source": [
        "# === OVERALL ACCURACY ===\n",
        "overall_acc_vae = np.mean(y_pred_vae == y_test)\n",
        "overall_acc_cnn = np.mean((cnn_model.predict(z_test_cnn) > 0.5).astype(int) == y_test)\n",
        "overall_acc_latent = np.mean(y_pred_latent == y_test)\n",
        "overall_acc_fused = np.mean(y_fused == y_test)\n",
        "\n",
        "print(f\"Overall VAE Accuracy: {overall_acc_vae * 100:.2f}%\")\n",
        "print(f\"Overall CNN on Latent Accuracy: {overall_acc_cnn * 100:.2f}%\")\n",
        "print(f\"Overall XGBoost Latent Accuracy: {overall_acc_latent * 100:.2f}%\")\n",
        "print(f\"Overall VAE + XGBoost Fusion Accuracy: {overall_acc_fused * 100:.2f}%\")\n"
      ],
      "metadata": {
        "colab": {
          "base_uri": "https://localhost:8080/"
        },
        "id": "ayVQhqyIos3g",
        "outputId": "9a6cf3b4-71f4-48db-f1d9-9730833758bf"
      },
      "execution_count": 17,
      "outputs": [
        {
          "output_type": "stream",
          "name": "stdout",
          "text": [
            "\u001b[1m1/1\u001b[0m \u001b[32m━━━━━━━━━━━━━━━━━━━━\u001b[0m\u001b[37m\u001b[0m \u001b[1m0s\u001b[0m 34ms/step\n",
            "Overall VAE Accuracy: 50.31%\n",
            "Overall CNN on Latent Accuracy: 48.32%\n",
            "Overall XGBoost Latent Accuracy: 49.22%\n",
            "Overall VAE + XGBoost Fusion Accuracy: 49.14%\n"
          ]
        }
      ]
    },
    {
      "cell_type": "code",
      "source": [
        "\n",
        "# === PLOT BITWISE ACCURACY ===\n",
        "plt.figure(figsize=(12,5))\n",
        "plt.plot(bitwise_acc_fused, marker='o')\n",
        "plt.title(\"Per-bit Accuracy (NEA1)\")\n",
        "plt.xlabel(\"Bit Index (0-127)\")\n",
        "plt.ylabel(\"Accuracy\")\n",
        "plt.grid(True)\n",
        "plt.show()"
      ],
      "metadata": {
        "colab": {
          "base_uri": "https://localhost:8080/",
          "height": 487
        },
        "id": "LLF7svOWobEn",
        "outputId": "7e1598ac-a0c6-4bd3-d908-074510a00960"
      },
      "execution_count": 18,
      "outputs": [
        {
          "output_type": "display_data",
          "data": {
            "text/plain": [
              "<Figure size 1200x500 with 1 Axes>"
            ],
            "image/png": "[encoded data removed]"
          },
          "metadata": {}
        }
      ]
    }
  ]
}