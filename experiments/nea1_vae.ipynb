{
  "nbformat": 4,
  "nbformat_minor": 0,
  "metadata": {
    "colab": {
      "provenance": [],
      "authorship_tag": "ABX9TyNjpqqviJEg33NW+HXrVQmz",
      "include_colab_link": true
    },
    "kernelspec": {
      "name": "python3",
      "display_name": "Python 3"
    },
    "language_info": {
      "name": "python"
    }
  },
  "cells": [
    {
      "cell_type": "markdown",
      "metadata": {
        "id": "view-in-github",
        "colab_type": "text"
      },
      "source": [
        "<a href=\"https://colab.research.google.com/github/VrindaBajaj20/ai-attack-snow3g-nea1/blob/main/experiments/nea1_vae.ipynb\" target=\"_parent\"><img src=\"https://colab.research.google.com/assets/colab-badge.svg\" alt=\"Open In Colab\"/></a>"
      ]
    },
    {
      "cell_type": "code",
      "execution_count": 11,
      "metadata": {
        "id": "AtXeYEFCka5x"
      },
      "outputs": [],
      "source": [
        "import pandas as pd\n",
        "import numpy as np\n",
        "import tensorflow as tf\n",
        "from tensorflow.keras.layers import Input, Dense, Lambda, Layer, Conv1D, MaxPooling1D, Flatten\n",
        "from tensorflow.keras.models import Model, Sequential\n",
        "from tensorflow.keras import backend as K\n",
        "from xgboost import XGBClassifier\n",
        "from sklearn.multioutput import MultiOutputClassifier\n",
        "from sklearn.model_selection import train_test_split\n",
        "import matplotlib.pyplot as plt"
      ]
    },
    {
      "cell_type": "code",
      "source": [
        "print(\"Please upload the CSV file.\")\n",
        "uploaded = files.upload()\n",
        "\n",
        "file_name = list(uploaded.keys())[0]\n",
        "df = pd.read_csv(file_name)\n",
        "\n",
        "required_columns = [\"COUNT\", \"Direction\", \"Bearer ID\", \"LENGTH\", \"KEY\"]\n",
        "if not all(col in df.columns for col in required_columns):\n",
        "    raise ValueError(f\"Missing required columns: {', '.join(required_columns)}\")"
      ],
      "metadata": {
        "colab": {
          "base_uri": "https://localhost:8080/",
          "height": 88
        },
        "id": "MNuIhy3mkpZv",
        "outputId": "e0530cfa-1819-49cc-dea4-1d005e4fe317"
      },
      "execution_count": 2,
      "outputs": [
        {
          "output_type": "stream",
          "name": "stdout",
          "text": [
            "Please upload the CSV file.\n"
          ]
        },
        {
          "output_type": "display_data",
          "data": {
            "text/plain": [
              "<IPython.core.display.HTML object>"
            ],
            "text/html": [
              "\n",
              "     <input type=\"file\" id=\"files-db9b531e-17ad-4f61-839c-16e835e30e99\" name=\"files[]\" multiple disabled\n",
              "        style=\"border:none\" />\n",
              "     <output id=\"result-db9b531e-17ad-4f61-839c-16e835e30e99\">\n",
              "      Upload widget is only available when the cell has been executed in the\n",
              "      current browser session. Please rerun this cell to enable.\n",
              "      </output>\n",
              "      <script>// Copyright 2017 Google LLC\n",
              "//\n",
              "// Licensed under the Apache License, Version 2.0 (the \"License\");\n",
              "// you may not use this file except in compliance with the License.\n",
              "// You may obtain a copy of the License at\n",
              "//\n",
              "//      http://www.apache.org/licenses/LICENSE-2.0\n",
              "//\n",
              "// Unless required by applicable law or agreed to in writing, software\n",
              "// distributed under the License is distributed on an \"AS IS\" BASIS,\n",
              "// WITHOUT WARRANTIES OR CONDITIONS OF ANY KIND, either express or implied.\n",
              "// See the License for the specific language governing permissions and\n",
              "// limitations under the License.\n",
              "\n",
              "/**\n",
              " * @fileoverview Helpers for google.colab Python module.\n",
              " */\n",
              "(function(scope) {\n",
              "function span(text, styleAttributes = {}) {\n",
              "  const element = document.createElement('span');\n",
              "  element.textContent = text;\n",
              "  for (const key of Object.keys(styleAttributes)) {\n",
              "    element.style[key] = styleAttributes[key];\n",
              "  }\n",
              "  return element;\n",
              "}\n",
              "\n",
              "// Max number of bytes which will be uploaded at a time.\n",
              "const MAX_PAYLOAD_SIZE = 100 * 1024;\n",
              "\n",
              "function _uploadFiles(inputId, outputId) {\n",
              "  const steps = uploadFilesStep(inputId, outputId);\n",
              "  const outputElement = document.getElementById(outputId);\n",
              "  // Cache steps on the outputElement to make it available for the next call\n",
              "  // to uploadFilesContinue from Python.\n",
              "  outputElement.steps = steps;\n",
              "\n",
              "  return _uploadFilesContinue(outputId);\n",
              "}\n",
              "\n",
              "// This is roughly an async generator (not supported in the browser yet),\n",
              "// where there are multiple asynchronous steps and the Python side is going\n",
              "// to poll for completion of each step.\n",
              "// This uses a Promise to block the python side on completion of each step,\n",
              "// then passes the result of the previous step as the input to the next step.\n",
              "function _uploadFilesContinue(outputId) {\n",
              "  const outputElement = document.getElementById(outputId);\n",
              "  const steps = outputElement.steps;\n",
              "\n",
              "  const next = steps.next(outputElement.lastPromiseValue);\n",
              "  return Promise.resolve(next.value.promise).then((value) => {\n",
              "    // Cache the last promise value to make it available to the next\n",
              "    // step of the generator.\n",
              "    outputElement.lastPromiseValue = value;\n",
              "    return next.value.response;\n",
              "  });\n",
              "}\n",
              "\n",
              "/**\n",
              " * Generator function which is called between each async step of the upload\n",
              " * process.\n",
              " * @param {string} inputId Element ID of the input file picker element.\n",
              " * @param {string} outputId Element ID of the output display.\n",
              " * @return {!Iterable<!Object>} Iterable of next steps.\n",
              " */\n",
              "function* uploadFilesStep(inputId, outputId) {\n",
              "  const inputElement = document.getElementById(inputId);\n",
              "  inputElement.disabled = false;\n",
              "\n",
              "  const outputElement = document.getElementById(outputId);\n",
              "  outputElement.innerHTML = '';\n",
              "\n",
              "  const pickedPromise = new Promise((resolve) => {\n",
              "    inputElement.addEventListener('change', (e) => {\n",
              "      resolve(e.target.files);\n",
              "    });\n",
              "  });\n",
              "\n",
              "  const cancel = document.createElement('button');\n",
              "  inputElement.parentElement.appendChild(cancel);\n",
              "  cancel.textContent = 'Cancel upload';\n",
              "  const cancelPromise = new Promise((resolve) => {\n",
              "    cancel.onclick = () => {\n",
              "      resolve(null);\n",
              "    };\n",
              "  });\n",
              "\n",
              "  // Wait for the user to pick the files.\n",
              "  const files = yield {\n",
              "    promise: Promise.race([pickedPromise, cancelPromise]),\n",
              "    response: {\n",
              "      action: 'starting',\n",
              "    }\n",
              "  };\n",
              "\n",
              "  cancel.remove();\n",
              "\n",
              "  // Disable the input element since further picks are not allowed.\n",
              "  inputElement.disabled = true;\n",
              "\n",
              "  if (!files) {\n",
              "    return {\n",
              "      response: {\n",
              "        action: 'complete',\n",
              "      }\n",
              "    };\n",
              "  }\n",
              "\n",
              "  for (const file of files) {\n",
              "    const li = document.createElement('li');\n",
              "    li.append(span(file.name, {fontWeight: 'bold'}));\n",
              "    li.append(span(\n",
              "        `(${file.type || 'n/a'}) - ${file.size} bytes, ` +\n",
              "        `last modified: ${\n",
              "            file.lastModifiedDate ? file.lastModifiedDate.toLocaleDateString() :\n",
              "                                    'n/a'} - `));\n",
              "    const percent = span('0% done');\n",
              "    li.appendChild(percent);\n",
              "\n",
              "    outputElement.appendChild(li);\n",
              "\n",
              "    const fileDataPromise = new Promise((resolve) => {\n",
              "      const reader = new FileReader();\n",
              "      reader.onload = (e) => {\n",
              "        resolve(e.target.result);\n",
              "      };\n",
              "      reader.readAsArrayBuffer(file);\n",
              "    });\n",
              "    // Wait for the data to be ready.\n",
              "    let fileData = yield {\n",
              "      promise: fileDataPromise,\n",
              "      response: {\n",
              "        action: 'continue',\n",
              "      }\n",
              "    };\n",
              "\n",
              "    // Use a chunked sending to avoid message size limits. See b/62115660.\n",
              "    let position = 0;\n",
              "    do {\n",
              "      const length = Math.min(fileData.byteLength - position, MAX_PAYLOAD_SIZE);\n",
              "      const chunk = new Uint8Array(fileData, position, length);\n",
              "      position += length;\n",
              "\n",
              "      const base64 = btoa(String.fromCharCode.apply(null, chunk));\n",
              "      yield {\n",
              "        response: {\n",
              "          action: 'append',\n",
              "          file: file.name,\n",
              "          data: base64,\n",
              "        },\n",
              "      };\n",
              "\n",
              "      let percentDone = fileData.byteLength === 0 ?\n",
              "          100 :\n",
              "          Math.round((position / fileData.byteLength) * 100);\n",
              "      percent.textContent = `${percentDone}% done`;\n",
              "\n",
              "    } while (position < fileData.byteLength);\n",
              "  }\n",
              "\n",
              "  // All done.\n",
              "  yield {\n",
              "    response: {\n",
              "      action: 'complete',\n",
              "    }\n",
              "  };\n",
              "}\n",
              "\n",
              "scope.google = scope.google || {};\n",
              "scope.google.colab = scope.google.colab || {};\n",
              "scope.google.colab._files = {\n",
              "  _uploadFiles,\n",
              "  _uploadFilesContinue,\n",
              "};\n",
              "})(self);\n",
              "</script> "
            ]
          },
          "metadata": {}
        },
        {
          "output_type": "stream",
          "name": "stdout",
          "text": [
            "Saving snow3g_keystream (1).csv to snow3g_keystream (1).csv\n"
          ]
        }
      ]
    },
    {
      "cell_type": "code",
      "source": [
        "# Validate required columns\n",
        "required_columns = [\"KEY\", \"Direction\", \"LENGTH\", \"COUNT\", \"Bearer ID\", \"Keystream\"]\n",
        "if not all(col in df.columns for col in required_columns):\n",
        "    raise ValueError(f\"Missing required columns: {', '.join(required_columns)}\")"
      ],
      "metadata": {
        "id": "2DgUMQ9pks9h"
      },
      "execution_count": 3,
      "outputs": []
    },
    {
      "cell_type": "code",
      "source": [
        "# Convert binary string to numpy array of bits\n",
        "def binstr_to_bits(bin_str):\n",
        "    return np.array([int(b) for b in bin_str])\n",
        "\n",
        "df['Keystream_bits'] = df['Keystream'].apply(binstr_to_bits)\n",
        "df['Key_bits'] = df['KEY'].apply(lambda k: np.array([int(b) for b in bin(int(k,16))[2:].zfill(128)]))\n",
        "\n",
        "# Stack into ML-ready arrays\n",
        "X = np.stack(df['Keystream_bits'].values).astype(np.float32)\n",
        "y = np.stack(df['Key_bits'].values).astype(np.int32)\n",
        "\n",
        "# Train-test split\n",
        "X_train, X_test, y_train, y_test = train_test_split(X, y, test_size=0.2, random_state=42)\n",
        "\n",
        "print(\"Preprocessing done. Shapes:\")\n",
        "print(\"X_train:\", X_train.shape, \"y_train:\", y_train.shape)\n",
        "print(\"X_test:\", X_test.shape, \"y_test:\", y_test.shape)"
      ],
      "metadata": {
        "colab": {
          "base_uri": "https://localhost:8080/"
        },
        "id": "xSt9aSKYkv5K",
        "outputId": "d2bcbc81-6998-48a8-db6e-74d6b0fb82c2"
      },
      "execution_count": 4,
      "outputs": [
        {
          "output_type": "stream",
          "name": "stdout",
          "text": [
            "Preprocessing done. Shapes:\n",
            "X_train: (80, 128) y_train: (80, 128)\n",
            "X_test: (20, 128) y_test: (20, 128)\n"
          ]
        }
      ]
    },
    {
      "cell_type": "code",
      "source": [
        "# === Step 3: Define Sampling and KL Loss ===\n",
        "latent_dim = 32\n",
        "input_dim = 128\n",
        "\n",
        "def sampling(args):\n",
        "    z_mean, z_log_var = args\n",
        "    epsilon = tf.random.normal(shape=tf.shape(z_mean))\n",
        "    return z_mean + tf.exp(0.5 * z_log_var) * epsilon\n",
        "\n",
        "class KLLossLayer(Layer):\n",
        "    def call(self, inputs):\n",
        "        z_mean, z_log_var = inputs\n",
        "        kl_loss = -0.5 * K.sum(1 + z_log_var - K.square(z_mean) - K.exp(z_log_var), axis=-1)\n",
        "        self.add_loss(K.mean(kl_loss))\n",
        "        return inputs\n"
      ],
      "metadata": {
        "id": "D9aX436Yk57E"
      },
      "execution_count": 7,
      "outputs": []
    },
    {
      "cell_type": "code",
      "source": [
        "# Encoder\n",
        "inputs = Input(shape=(input_dim,))\n",
        "h = Dense(64, activation='relu')(inputs)\n",
        "z_mean = Dense(latent_dim)(h)\n",
        "z_log_var = Dense(latent_dim)(h)\n",
        "z = Lambda(sampling)([z_mean, z_log_var])\n",
        "KLLossLayer()([z_mean, z_log_var])  # adds KL loss\n",
        "\n",
        "# Decoder\n",
        "decoder_h = Dense(64, activation='relu')\n",
        "decoder_out = Dense(input_dim, activation='sigmoid')\n",
        "outputs = decoder_out(decoder_h(z))"
      ],
      "metadata": {
        "id": "aauR91-xl35Y"
      },
      "execution_count": 16,
      "outputs": []
    },
    {
      "cell_type": "code",
      "source": [
        "# VAE model\n",
        "vae = Model(inputs, outputs)\n",
        "vae.compile(optimizer='adam', loss='binary_crossentropy')\n",
        "vae.fit(X_train, X_train, epochs=30, batch_size=128, validation_data=(X_test, X_test))"
      ],
      "metadata": {
        "colab": {
          "base_uri": "https://localhost:8080/"
        },
        "id": "kJyJCBAblA0t",
        "outputId": "7e53b9f2-768a-42a8-8410-f2bc0d3663ae"
      },
      "execution_count": 17,
      "outputs": [
        {
          "output_type": "stream",
          "name": "stdout",
          "text": [
            "Epoch 1/30\n",
            "\u001b[1m1/1\u001b[0m \u001b[32m━━━━━━━━━━━━━━━━━━━━\u001b[0m\u001b[37m\u001b[0m \u001b[1m3s\u001b[0m 3s/step - loss: 0.7480 - val_loss: 0.7298\n",
            "Epoch 2/30\n",
            "\u001b[1m1/1\u001b[0m \u001b[32m━━━━━━━━━━━━━━━━━━━━\u001b[0m\u001b[37m\u001b[0m \u001b[1m0s\u001b[0m 94ms/step - loss: 0.7368 - val_loss: 0.7257\n",
            "Epoch 3/30\n",
            "\u001b[1m1/1\u001b[0m \u001b[32m━━━━━━━━━━━━━━━━━━━━\u001b[0m\u001b[37m\u001b[0m \u001b[1m0s\u001b[0m 90ms/step - loss: 0.7307 - val_loss: 0.7205\n",
            "Epoch 4/30\n",
            "\u001b[1m1/1\u001b[0m \u001b[32m━━━━━━━━━━━━━━━━━━━━\u001b[0m\u001b[37m\u001b[0m \u001b[1m0s\u001b[0m 108ms/step - loss: 0.7263 - val_loss: 0.7214\n",
            "Epoch 5/30\n",
            "\u001b[1m1/1\u001b[0m \u001b[32m━━━━━━━━━━━━━━━━━━━━\u001b[0m\u001b[37m\u001b[0m \u001b[1m0s\u001b[0m 94ms/step - loss: 0.7215 - val_loss: 0.7170\n",
            "Epoch 6/30\n",
            "\u001b[1m1/1\u001b[0m \u001b[32m━━━━━━━━━━━━━━━━━━━━\u001b[0m\u001b[37m\u001b[0m \u001b[1m0s\u001b[0m 91ms/step - loss: 0.7194 - val_loss: 0.7155\n",
            "Epoch 7/30\n",
            "\u001b[1m1/1\u001b[0m \u001b[32m━━━━━━━━━━━━━━━━━━━━\u001b[0m\u001b[37m\u001b[0m \u001b[1m0s\u001b[0m 91ms/step - loss: 0.7163 - val_loss: 0.7166\n",
            "Epoch 8/30\n",
            "\u001b[1m1/1\u001b[0m \u001b[32m━━━━━━━━━━━━━━━━━━━━\u001b[0m\u001b[37m\u001b[0m \u001b[1m0s\u001b[0m 94ms/step - loss: 0.7116 - val_loss: 0.7058\n",
            "Epoch 9/30\n",
            "\u001b[1m1/1\u001b[0m \u001b[32m━━━━━━━━━━━━━━━━━━━━\u001b[0m\u001b[37m\u001b[0m \u001b[1m0s\u001b[0m 91ms/step - loss: 0.7070 - val_loss: 0.7122\n",
            "Epoch 10/30\n",
            "\u001b[1m1/1\u001b[0m \u001b[32m━━━━━━━━━━━━━━━━━━━━\u001b[0m\u001b[37m\u001b[0m \u001b[1m0s\u001b[0m 89ms/step - loss: 0.7121 - val_loss: 0.7179\n",
            "Epoch 11/30\n",
            "\u001b[1m1/1\u001b[0m \u001b[32m━━━━━━━━━━━━━━━━━━━━\u001b[0m\u001b[37m\u001b[0m \u001b[1m0s\u001b[0m 93ms/step - loss: 0.7084 - val_loss: 0.7072\n",
            "Epoch 12/30\n",
            "\u001b[1m1/1\u001b[0m \u001b[32m━━━━━━━━━━━━━━━━━━━━\u001b[0m\u001b[37m\u001b[0m \u001b[1m0s\u001b[0m 95ms/step - loss: 0.7059 - val_loss: 0.7042\n",
            "Epoch 13/30\n",
            "\u001b[1m1/1\u001b[0m \u001b[32m━━━━━━━━━━━━━━━━━━━━\u001b[0m\u001b[37m\u001b[0m \u001b[1m0s\u001b[0m 95ms/step - loss: 0.7045 - val_loss: 0.7106\n",
            "Epoch 14/30\n",
            "\u001b[1m1/1\u001b[0m \u001b[32m━━━━━━━━━━━━━━━━━━━━\u001b[0m\u001b[37m\u001b[0m \u001b[1m0s\u001b[0m 97ms/step - loss: 0.7017 - val_loss: 0.7060\n",
            "Epoch 15/30\n",
            "\u001b[1m1/1\u001b[0m \u001b[32m━━━━━━━━━━━━━━━━━━━━\u001b[0m\u001b[37m\u001b[0m \u001b[1m0s\u001b[0m 107ms/step - loss: 0.7042 - val_loss: 0.7008\n",
            "Epoch 16/30\n",
            "\u001b[1m1/1\u001b[0m \u001b[32m━━━━━━━━━━━━━━━━━━━━\u001b[0m\u001b[37m\u001b[0m \u001b[1m0s\u001b[0m 94ms/step - loss: 0.7020 - val_loss: 0.7051\n",
            "Epoch 17/30\n",
            "\u001b[1m1/1\u001b[0m \u001b[32m━━━━━━━━━━━━━━━━━━━━\u001b[0m\u001b[37m\u001b[0m \u001b[1m0s\u001b[0m 93ms/step - loss: 0.6977 - val_loss: 0.7066\n",
            "Epoch 18/30\n",
            "\u001b[1m1/1\u001b[0m \u001b[32m━━━━━━━━━━━━━━━━━━━━\u001b[0m\u001b[37m\u001b[0m \u001b[1m0s\u001b[0m 93ms/step - loss: 0.6984 - val_loss: 0.6982\n",
            "Epoch 19/30\n",
            "\u001b[1m1/1\u001b[0m \u001b[32m━━━━━━━━━━━━━━━━━━━━\u001b[0m\u001b[37m\u001b[0m \u001b[1m0s\u001b[0m 91ms/step - loss: 0.6968 - val_loss: 0.7006\n",
            "Epoch 20/30\n",
            "\u001b[1m1/1\u001b[0m \u001b[32m━━━━━━━━━━━━━━━━━━━━\u001b[0m\u001b[37m\u001b[0m \u001b[1m0s\u001b[0m 91ms/step - loss: 0.6977 - val_loss: 0.7073\n",
            "Epoch 21/30\n",
            "\u001b[1m1/1\u001b[0m \u001b[32m━━━━━━━━━━━━━━━━━━━━\u001b[0m\u001b[37m\u001b[0m \u001b[1m0s\u001b[0m 94ms/step - loss: 0.6982 - val_loss: 0.6992\n",
            "Epoch 22/30\n",
            "\u001b[1m1/1\u001b[0m \u001b[32m━━━━━━━━━━━━━━━━━━━━\u001b[0m\u001b[37m\u001b[0m \u001b[1m0s\u001b[0m 93ms/step - loss: 0.6945 - val_loss: 0.7104\n",
            "Epoch 23/30\n",
            "\u001b[1m1/1\u001b[0m \u001b[32m━━━━━━━━━━━━━━━━━━━━\u001b[0m\u001b[37m\u001b[0m \u001b[1m0s\u001b[0m 101ms/step - loss: 0.6949 - val_loss: 0.6993\n",
            "Epoch 24/30\n",
            "\u001b[1m1/1\u001b[0m \u001b[32m━━━━━━━━━━━━━━━━━━━━\u001b[0m\u001b[37m\u001b[0m \u001b[1m0s\u001b[0m 90ms/step - loss: 0.6941 - val_loss: 0.6964\n",
            "Epoch 25/30\n",
            "\u001b[1m1/1\u001b[0m \u001b[32m━━━━━━━━━━━━━━━━━━━━\u001b[0m\u001b[37m\u001b[0m \u001b[1m0s\u001b[0m 130ms/step - loss: 0.6952 - val_loss: 0.6984\n",
            "Epoch 26/30\n",
            "\u001b[1m1/1\u001b[0m \u001b[32m━━━━━━━━━━━━━━━━━━━━\u001b[0m\u001b[37m\u001b[0m \u001b[1m0s\u001b[0m 93ms/step - loss: 0.6925 - val_loss: 0.6990\n",
            "Epoch 27/30\n",
            "\u001b[1m1/1\u001b[0m \u001b[32m━━━━━━━━━━━━━━━━━━━━\u001b[0m\u001b[37m\u001b[0m \u001b[1m0s\u001b[0m 90ms/step - loss: 0.6908 - val_loss: 0.7009\n",
            "Epoch 28/30\n",
            "\u001b[1m1/1\u001b[0m \u001b[32m━━━━━━━━━━━━━━━━━━━━\u001b[0m\u001b[37m\u001b[0m \u001b[1m0s\u001b[0m 92ms/step - loss: 0.6900 - val_loss: 0.7032\n",
            "Epoch 29/30\n",
            "\u001b[1m1/1\u001b[0m \u001b[32m━━━━━━━━━━━━━━━━━━━━\u001b[0m\u001b[37m\u001b[0m \u001b[1m0s\u001b[0m 97ms/step - loss: 0.6905 - val_loss: 0.6992\n",
            "Epoch 30/30\n",
            "\u001b[1m1/1\u001b[0m \u001b[32m━━━━━━━━━━━━━━━━━━━━\u001b[0m\u001b[37m\u001b[0m \u001b[1m0s\u001b[0m 91ms/step - loss: 0.6908 - val_loss: 0.6977\n"
          ]
        },
        {
          "output_type": "execute_result",
          "data": {
            "text/plain": [
              "<keras.src.callbacks.history.History at 0x790f84afd2e0>"
            ]
          },
          "metadata": {},
          "execution_count": 17
        }
      ]
    },
    {
      "cell_type": "code",
      "source": [
        "# Latent vectors\n",
        "encoder = Model(inputs, z)\n",
        "z_train = encoder.predict(X_train)\n",
        "z_test = encoder.predict(X_test)"
      ],
      "metadata": {
        "colab": {
          "base_uri": "https://localhost:8080/"
        },
        "id": "zVDOausUmFkH",
        "outputId": "2e172f5a-3173-4886-c6b6-6aaf4ad3c08f"
      },
      "execution_count": 18,
      "outputs": [
        {
          "output_type": "stream",
          "name": "stderr",
          "text": [
            "WARNING:tensorflow:6 out of the last 9 calls to <function TensorFlowTrainer.make_predict_function.<locals>.one_step_on_data_distributed at 0x790f6e17ee80> triggered tf.function retracing. Tracing is expensive and the excessive number of tracings could be due to (1) creating @tf.function repeatedly in a loop, (2) passing tensors with different shapes, (3) passing Python objects instead of tensors. For (1), please define your @tf.function outside of the loop. For (2), @tf.function has reduce_retracing=True option that can avoid unnecessary retracing. For (3), please refer to https://www.tensorflow.org/guide/function#controlling_retracing and https://www.tensorflow.org/api_docs/python/tf/function for  more details.\n"
          ]
        },
        {
          "output_type": "stream",
          "name": "stdout",
          "text": [
            "\u001b[1m3/3\u001b[0m \u001b[32m━━━━━━━━━━━━━━━━━━━━\u001b[0m\u001b[37m\u001b[0m \u001b[1m0s\u001b[0m 30ms/step\n",
            "\u001b[1m1/1\u001b[0m \u001b[32m━━━━━━━━━━━━━━━━━━━━\u001b[0m\u001b[37m\u001b[0m \u001b[1m0s\u001b[0m 36ms/step\n"
          ]
        }
      ]
    },
    {
      "cell_type": "code",
      "source": [
        "# === CNN on Latent Features ===\n",
        "z_train_cnn = z_train.reshape(-1, latent_dim, 1)\n",
        "z_test_cnn = z_test.reshape(-1, latent_dim, 1)\n",
        "\n",
        "cnn_model = Sequential([\n",
        "    Conv1D(32, 3, activation='relu', input_shape=(latent_dim, 1)),\n",
        "    MaxPooling1D(2),\n",
        "    Conv1D(64, 3, activation='relu'),\n",
        "    MaxPooling1D(2),\n",
        "    Flatten(),\n",
        "    Dense(128, activation='sigmoid')  # 128-bit output\n",
        "])\n",
        "cnn_model.compile(optimizer='adam', loss='binary_crossentropy', metrics=['accuracy'])\n",
        "cnn_model.fit(z_train_cnn, y_train, epochs=30, batch_size=128, validation_data=(z_test_cnn, y_test))\n"
      ],
      "metadata": {
        "colab": {
          "base_uri": "https://localhost:8080/"
        },
        "id": "f70M8EI_mgt8",
        "outputId": "dfaad1fa-f756-4c1f-83dc-7d70361be13e"
      },
      "execution_count": 19,
      "outputs": [
        {
          "output_type": "stream",
          "name": "stderr",
          "text": [
            "/usr/local/lib/python3.12/dist-packages/keras/src/layers/convolutional/base_conv.py:113: UserWarning: Do not pass an `input_shape`/`input_dim` argument to a layer. When using Sequential models, prefer using an `Input(shape)` object as the first layer in the model instead.\n",
            "  super().__init__(activity_regularizer=activity_regularizer, **kwargs)\n"
          ]
        },
        {
          "output_type": "stream",
          "name": "stdout",
          "text": [
            "Epoch 1/30\n",
            "\u001b[1m1/1\u001b[0m \u001b[32m━━━━━━━━━━━━━━━━━━━━\u001b[0m\u001b[37m\u001b[0m \u001b[1m2s\u001b[0m 2s/step - accuracy: 0.0000e+00 - loss: 0.6986 - val_accuracy: 0.0000e+00 - val_loss: 0.6986\n",
            "Epoch 2/30\n",
            "\u001b[1m1/1\u001b[0m \u001b[32m━━━━━━━━━━━━━━━━━━━━\u001b[0m\u001b[37m\u001b[0m \u001b[1m0s\u001b[0m 103ms/step - accuracy: 0.0000e+00 - loss: 0.6948 - val_accuracy: 0.0000e+00 - val_loss: 0.6976\n",
            "Epoch 3/30\n",
            "\u001b[1m1/1\u001b[0m \u001b[32m━━━━━━━━━━━━━━━━━━━━\u001b[0m\u001b[37m\u001b[0m \u001b[1m0s\u001b[0m 103ms/step - accuracy: 0.0000e+00 - loss: 0.6916 - val_accuracy: 0.0000e+00 - val_loss: 0.6972\n",
            "Epoch 4/30\n",
            "\u001b[1m1/1\u001b[0m \u001b[32m━━━━━━━━━━━━━━━━━━━━\u001b[0m\u001b[37m\u001b[0m \u001b[1m0s\u001b[0m 106ms/step - accuracy: 0.0000e+00 - loss: 0.6891 - val_accuracy: 0.0000e+00 - val_loss: 0.6973\n",
            "Epoch 5/30\n",
            "\u001b[1m1/1\u001b[0m \u001b[32m━━━━━━━━━━━━━━━━━━━━\u001b[0m\u001b[37m\u001b[0m \u001b[1m0s\u001b[0m 103ms/step - accuracy: 0.0000e+00 - loss: 0.6869 - val_accuracy: 0.0000e+00 - val_loss: 0.6977\n",
            "Epoch 6/30\n",
            "\u001b[1m1/1\u001b[0m \u001b[32m━━━━━━━━━━━━━━━━━━━━\u001b[0m\u001b[37m\u001b[0m \u001b[1m0s\u001b[0m 103ms/step - accuracy: 0.0000e+00 - loss: 0.6850 - val_accuracy: 0.0000e+00 - val_loss: 0.6983\n",
            "Epoch 7/30\n",
            "\u001b[1m1/1\u001b[0m \u001b[32m━━━━━━━━━━━━━━━━━━━━\u001b[0m\u001b[37m\u001b[0m \u001b[1m0s\u001b[0m 119ms/step - accuracy: 0.0000e+00 - loss: 0.6833 - val_accuracy: 0.0000e+00 - val_loss: 0.6991\n",
            "Epoch 8/30\n",
            "\u001b[1m1/1\u001b[0m \u001b[32m━━━━━━━━━━━━━━━━━━━━\u001b[0m\u001b[37m\u001b[0m \u001b[1m0s\u001b[0m 97ms/step - accuracy: 0.0000e+00 - loss: 0.6817 - val_accuracy: 0.0000e+00 - val_loss: 0.7000\n",
            "Epoch 9/30\n",
            "\u001b[1m1/1\u001b[0m \u001b[32m━━━━━━━━━━━━━━━━━━━━\u001b[0m\u001b[37m\u001b[0m \u001b[1m0s\u001b[0m 101ms/step - accuracy: 0.0000e+00 - loss: 0.6803 - val_accuracy: 0.0000e+00 - val_loss: 0.7009\n",
            "Epoch 10/30\n",
            "\u001b[1m1/1\u001b[0m \u001b[32m━━━━━━━━━━━━━━━━━━━━\u001b[0m\u001b[37m\u001b[0m \u001b[1m0s\u001b[0m 99ms/step - accuracy: 0.0000e+00 - loss: 0.6789 - val_accuracy: 0.0000e+00 - val_loss: 0.7018\n",
            "Epoch 11/30\n",
            "\u001b[1m1/1\u001b[0m \u001b[32m━━━━━━━━━━━━━━━━━━━━\u001b[0m\u001b[37m\u001b[0m \u001b[1m0s\u001b[0m 104ms/step - accuracy: 0.0000e+00 - loss: 0.6775 - val_accuracy: 0.0000e+00 - val_loss: 0.7026\n",
            "Epoch 12/30\n",
            "\u001b[1m1/1\u001b[0m \u001b[32m━━━━━━━━━━━━━━━━━━━━\u001b[0m\u001b[37m\u001b[0m \u001b[1m0s\u001b[0m 107ms/step - accuracy: 0.0125 - loss: 0.6761 - val_accuracy: 0.0000e+00 - val_loss: 0.7033\n",
            "Epoch 13/30\n",
            "\u001b[1m1/1\u001b[0m \u001b[32m━━━━━━━━━━━━━━━━━━━━\u001b[0m\u001b[37m\u001b[0m \u001b[1m0s\u001b[0m 112ms/step - accuracy: 0.0125 - loss: 0.6747 - val_accuracy: 0.0000e+00 - val_loss: 0.7037\n",
            "Epoch 14/30\n",
            "\u001b[1m1/1\u001b[0m \u001b[32m━━━━━━━━━━━━━━━━━━━━\u001b[0m\u001b[37m\u001b[0m \u001b[1m0s\u001b[0m 115ms/step - accuracy: 0.0125 - loss: 0.6732 - val_accuracy: 0.0000e+00 - val_loss: 0.7040\n",
            "Epoch 15/30\n",
            "\u001b[1m1/1\u001b[0m \u001b[32m━━━━━━━━━━━━━━━━━━━━\u001b[0m\u001b[37m\u001b[0m \u001b[1m0s\u001b[0m 105ms/step - accuracy: 0.0125 - loss: 0.6717 - val_accuracy: 0.0000e+00 - val_loss: 0.7041\n",
            "Epoch 16/30\n",
            "\u001b[1m1/1\u001b[0m \u001b[32m━━━━━━━━━━━━━━━━━━━━\u001b[0m\u001b[37m\u001b[0m \u001b[1m0s\u001b[0m 113ms/step - accuracy: 0.0125 - loss: 0.6701 - val_accuracy: 0.0000e+00 - val_loss: 0.7041\n",
            "Epoch 17/30\n",
            "\u001b[1m1/1\u001b[0m \u001b[32m━━━━━━━━━━━━━━━━━━━━\u001b[0m\u001b[37m\u001b[0m \u001b[1m0s\u001b[0m 102ms/step - accuracy: 0.0125 - loss: 0.6683 - val_accuracy: 0.0000e+00 - val_loss: 0.7041\n",
            "Epoch 18/30\n",
            "\u001b[1m1/1\u001b[0m \u001b[32m━━━━━━━━━━━━━━━━━━━━\u001b[0m\u001b[37m\u001b[0m \u001b[1m0s\u001b[0m 99ms/step - accuracy: 0.0250 - loss: 0.6666 - val_accuracy: 0.0000e+00 - val_loss: 0.7039\n",
            "Epoch 19/30\n",
            "\u001b[1m1/1\u001b[0m \u001b[32m━━━━━━━━━━━━━━━━━━━━\u001b[0m\u001b[37m\u001b[0m \u001b[1m0s\u001b[0m 99ms/step - accuracy: 0.0250 - loss: 0.6647 - val_accuracy: 0.0000e+00 - val_loss: 0.7038\n",
            "Epoch 20/30\n",
            "\u001b[1m1/1\u001b[0m \u001b[32m━━━━━━━━━━━━━━━━━━━━\u001b[0m\u001b[37m\u001b[0m \u001b[1m0s\u001b[0m 106ms/step - accuracy: 0.0250 - loss: 0.6628 - val_accuracy: 0.0000e+00 - val_loss: 0.7037\n",
            "Epoch 21/30\n",
            "\u001b[1m1/1\u001b[0m \u001b[32m━━━━━━━━━━━━━━━━━━━━\u001b[0m\u001b[37m\u001b[0m \u001b[1m0s\u001b[0m 106ms/step - accuracy: 0.0375 - loss: 0.6607 - val_accuracy: 0.0000e+00 - val_loss: 0.7037\n",
            "Epoch 22/30\n",
            "\u001b[1m1/1\u001b[0m \u001b[32m━━━━━━━━━━━━━━━━━━━━\u001b[0m\u001b[37m\u001b[0m \u001b[1m0s\u001b[0m 102ms/step - accuracy: 0.0375 - loss: 0.6586 - val_accuracy: 0.0000e+00 - val_loss: 0.7038\n",
            "Epoch 23/30\n",
            "\u001b[1m1/1\u001b[0m \u001b[32m━━━━━━━━━━━━━━━━━━━━\u001b[0m\u001b[37m\u001b[0m \u001b[1m0s\u001b[0m 106ms/step - accuracy: 0.0500 - loss: 0.6564 - val_accuracy: 0.0000e+00 - val_loss: 0.7039\n",
            "Epoch 24/30\n",
            "\u001b[1m1/1\u001b[0m \u001b[32m━━━━━━━━━━━━━━━━━━━━\u001b[0m\u001b[37m\u001b[0m \u001b[1m0s\u001b[0m 109ms/step - accuracy: 0.0375 - loss: 0.6541 - val_accuracy: 0.0000e+00 - val_loss: 0.7042\n",
            "Epoch 25/30\n",
            "\u001b[1m1/1\u001b[0m \u001b[32m━━━━━━━━━━━━━━━━━━━━\u001b[0m\u001b[37m\u001b[0m \u001b[1m0s\u001b[0m 100ms/step - accuracy: 0.0500 - loss: 0.6517 - val_accuracy: 0.0000e+00 - val_loss: 0.7045\n",
            "Epoch 26/30\n",
            "\u001b[1m1/1\u001b[0m \u001b[32m━━━━━━━━━━━━━━━━━━━━\u001b[0m\u001b[37m\u001b[0m \u001b[1m0s\u001b[0m 111ms/step - accuracy: 0.0375 - loss: 0.6491 - val_accuracy: 0.0000e+00 - val_loss: 0.7048\n",
            "Epoch 27/30\n",
            "\u001b[1m1/1\u001b[0m \u001b[32m━━━━━━━━━━━━━━━━━━━━\u001b[0m\u001b[37m\u001b[0m \u001b[1m0s\u001b[0m 106ms/step - accuracy: 0.0375 - loss: 0.6465 - val_accuracy: 0.0000e+00 - val_loss: 0.7053\n",
            "Epoch 28/30\n",
            "\u001b[1m1/1\u001b[0m \u001b[32m━━━━━━━━━━━━━━━━━━━━\u001b[0m\u001b[37m\u001b[0m \u001b[1m0s\u001b[0m 101ms/step - accuracy: 0.0375 - loss: 0.6437 - val_accuracy: 0.0000e+00 - val_loss: 0.7057\n",
            "Epoch 29/30\n",
            "\u001b[1m1/1\u001b[0m \u001b[32m━━━━━━━━━━━━━━━━━━━━\u001b[0m\u001b[37m\u001b[0m \u001b[1m0s\u001b[0m 101ms/step - accuracy: 0.0375 - loss: 0.6409 - val_accuracy: 0.0500 - val_loss: 0.7063\n",
            "Epoch 30/30\n",
            "\u001b[1m1/1\u001b[0m \u001b[32m━━━━━━━━━━━━━━━━━━━━\u001b[0m\u001b[37m\u001b[0m \u001b[1m0s\u001b[0m 97ms/step - accuracy: 0.0375 - loss: 0.6379 - val_accuracy: 0.0500 - val_loss: 0.7069\n"
          ]
        },
        {
          "output_type": "execute_result",
          "data": {
            "text/plain": [
              "<keras.src.callbacks.history.History at 0x790f6e1c97c0>"
            ]
          },
          "metadata": {},
          "execution_count": 19
        }
      ]
    },
    {
      "cell_type": "code",
      "source": [
        "\n",
        "# === XGBoost on Latent Features ===\n",
        "xgb_latent = MultiOutputClassifier(XGBClassifier(n_estimators=200, n_jobs=-1, verbosity=0))\n",
        "xgb_latent.fit(z_train, y_train)\n",
        "y_pred_latent = xgb_latent.predict(z_test)"
      ],
      "metadata": {
        "id": "iLt2TCkKmoZA"
      },
      "execution_count": 20,
      "outputs": []
    },
    {
      "cell_type": "code",
      "source": [
        "# === VAE Reconstruction ===\n",
        "y_pred_vae = (vae.predict(X_test) > 0.5).astype(int)"
      ],
      "metadata": {
        "colab": {
          "base_uri": "https://localhost:8080/"
        },
        "id": "dABstKMOoIkb",
        "outputId": "c00ca195-61f7-41d3-b007-6b50b8617587"
      },
      "execution_count": 21,
      "outputs": [
        {
          "output_type": "stream",
          "name": "stdout",
          "text": [
            "\u001b[1m1/1\u001b[0m \u001b[32m━━━━━━━━━━━━━━━━━━━━\u001b[0m\u001b[37m\u001b[0m \u001b[1m0s\u001b[0m 172ms/step\n"
          ]
        }
      ]
    },
    {
      "cell_type": "code",
      "source": [
        "# === Bitwise Accuracy ===\n",
        "bitwise_acc_vae = np.mean(y_pred_vae == y_test, axis=0)\n",
        "bitwise_acc_cnn = np.mean((cnn_model.predict(z_test_cnn) > 0.5).astype(int) == y_test, axis=0)\n",
        "bitwise_acc_latent = np.mean(y_pred_latent == y_test, axis=0)"
      ],
      "metadata": {
        "colab": {
          "base_uri": "https://localhost:8080/"
        },
        "id": "11k2ty3-msKV",
        "outputId": "61598830-9ad5-433a-95a6-f081a0f38e0c"
      },
      "execution_count": 22,
      "outputs": [
        {
          "output_type": "stream",
          "name": "stdout",
          "text": [
            "\u001b[1m1/1\u001b[0m \u001b[32m━━━━━━━━━━━━━━━━━━━━\u001b[0m\u001b[37m\u001b[0m \u001b[1m0s\u001b[0m 122ms/step\n"
          ]
        }
      ]
    },
    {
      "cell_type": "code",
      "source": [
        "# Fusion (VAE + XGBoost latent)\n",
        "y_fused = ((y_pred_vae + y_pred_latent)/2) > 0.5\n",
        "bitwise_acc_fused = np.mean(y_fused == y_test, axis=0)"
      ],
      "metadata": {
        "id": "ODRGrvHZoQp2"
      },
      "execution_count": 23,
      "outputs": []
    },
    {
      "cell_type": "code",
      "source": [
        "# === PRINT RESULTS ===\n",
        "print(f\"VAE Bitwise Accuracy per bit:\\n{bitwise_acc_vae}\")\n",
        "print(f\"CNN on Latent Bitwise Accuracy per bit:\\n{bitwise_acc_cnn}\")\n",
        "print(f\"XGBoost Latent Bitwise Accuracy per bit:\\n{bitwise_acc_latent}\")\n",
        "print(f\"VAE + XGBoost Fusion Bitwise Accuracy per bit:\\n{bitwise_acc_fused}\")"
      ],
      "metadata": {
        "colab": {
          "base_uri": "https://localhost:8080/"
        },
        "id": "4WRTB1OyoRjA",
        "outputId": "46f14efd-0b35-4445-884b-cb16a839ed8b"
      },
      "execution_count": 24,
      "outputs": [
        {
          "output_type": "stream",
          "name": "stdout",
          "text": [
            "VAE Bitwise Accuracy per bit:\n",
            "[0.5  0.3  0.55 0.4  0.4  0.5  0.3  0.55 0.45 0.7  0.65 0.5  0.55 0.65\n",
            " 0.55 0.6  0.25 0.55 0.65 0.5  0.6  0.6  0.45 0.45 0.4  0.55 0.45 0.45\n",
            " 0.6  0.55 0.4  0.6  0.45 0.3  0.5  0.55 0.55 0.65 0.35 0.25 0.5  0.6\n",
            " 0.45 0.45 0.45 0.4  0.35 0.6  0.55 0.4  0.55 0.45 0.4  0.5  0.4  0.7\n",
            " 0.5  0.5  0.4  0.7  0.35 0.45 0.5  0.3  0.45 0.45 0.55 0.6  0.4  0.25\n",
            " 0.4  0.65 0.6  0.55 0.7  0.5  0.45 0.4  0.75 0.55 0.45 0.6  0.6  0.65\n",
            " 0.35 0.4  0.5  0.45 0.6  0.45 0.5  0.65 0.5  0.35 0.45 0.65 0.4  0.4\n",
            " 0.45 0.65 0.3  0.3  0.5  0.35 0.45 0.5  0.5  0.55 0.55 0.5  0.65 0.45\n",
            " 0.6  0.4  0.3  0.5  0.35 0.5  0.65 0.5  0.5  0.45 0.8  0.5  0.55 0.45\n",
            " 0.55 0.6 ]\n",
            "CNN on Latent Bitwise Accuracy per bit:\n",
            "[0.45 0.45 0.45 0.45 0.45 0.4  0.55 0.45 0.5  0.45 0.6  0.65 0.55 0.45\n",
            " 0.6  0.35 0.6  0.5  0.65 0.55 0.35 0.6  0.4  0.3  0.35 0.5  0.6  0.4\n",
            " 0.65 0.6  0.5  0.55 0.5  0.65 0.55 0.55 0.45 0.45 0.45 0.6  0.6  0.6\n",
            " 0.4  0.55 0.4  0.55 0.5  0.55 0.4  0.5  0.5  0.5  0.4  0.6  0.4  0.4\n",
            " 0.7  0.3  0.55 0.5  0.55 0.5  0.5  0.45 0.5  0.75 0.65 0.55 0.55 0.45\n",
            " 0.25 0.45 0.6  0.45 0.5  0.45 0.55 0.65 0.3  0.45 0.45 0.45 0.5  0.55\n",
            " 0.35 0.55 0.4  0.5  0.5  0.55 0.35 0.35 0.5  0.5  0.75 0.45 0.6  0.35\n",
            " 0.65 0.4  0.5  0.5  0.75 0.5  0.55 0.5  0.65 0.55 0.45 0.5  0.5  0.4\n",
            " 0.55 0.4  0.5  0.5  0.5  0.55 0.5  0.55 0.45 0.5  0.65 0.4  0.45 0.35\n",
            " 0.6  0.55]\n",
            "XGBoost Latent Bitwise Accuracy per bit:\n",
            "[0.5  0.5  0.45 0.6  0.4  0.55 0.45 0.7  0.4  0.5  0.55 0.6  0.55 0.5\n",
            " 0.65 0.4  0.55 0.55 0.45 0.45 0.5  0.8  0.5  0.25 0.6  0.8  0.35 0.5\n",
            " 0.3  0.45 0.55 0.6  0.6  0.5  0.65 0.45 0.5  0.45 0.45 0.5  0.4  0.5\n",
            " 0.4  0.55 0.65 0.4  0.45 0.75 0.35 0.5  0.6  0.5  0.65 0.45 0.25 0.55\n",
            " 0.45 0.45 0.6  0.7  0.45 0.5  0.45 0.4  0.5  0.45 0.7  0.4  0.6  0.65\n",
            " 0.35 0.3  0.55 0.4  0.45 0.45 0.25 0.65 0.65 0.5  0.25 0.4  0.6  0.3\n",
            " 0.35 0.5  0.55 0.6  0.55 0.35 0.45 0.45 0.6  0.45 0.6  0.45 0.45 0.4\n",
            " 0.5  0.4  0.45 0.45 0.65 0.35 0.6  0.65 0.5  0.35 0.5  0.5  0.4  0.55\n",
            " 0.55 0.7  0.25 0.65 0.4  0.4  0.45 0.45 0.5  0.6  0.55 0.5  0.4  0.45\n",
            " 0.65 0.3 ]\n",
            "VAE + XGBoost Fusion Bitwise Accuracy per bit:\n",
            "[0.5  0.35 0.45 0.5  0.35 0.5  0.35 0.65 0.45 0.55 0.6  0.45 0.55 0.75\n",
            " 0.7  0.5  0.3  0.55 0.65 0.3  0.55 0.65 0.4  0.3  0.35 0.75 0.4  0.6\n",
            " 0.4  0.45 0.35 0.6  0.6  0.45 0.55 0.5  0.4  0.45 0.35 0.5  0.35 0.55\n",
            " 0.35 0.5  0.45 0.4  0.3  0.6  0.45 0.6  0.5  0.45 0.4  0.55 0.35 0.65\n",
            " 0.55 0.55 0.6  0.65 0.4  0.4  0.55 0.35 0.5  0.45 0.7  0.45 0.6  0.5\n",
            " 0.4  0.5  0.65 0.55 0.6  0.55 0.4  0.4  0.65 0.6  0.45 0.6  0.65 0.25\n",
            " 0.3  0.55 0.65 0.45 0.65 0.35 0.45 0.5  0.5  0.3  0.6  0.6  0.45 0.4\n",
            " 0.4  0.45 0.5  0.45 0.6  0.3  0.55 0.5  0.55 0.45 0.5  0.45 0.5  0.6\n",
            " 0.55 0.5  0.3  0.6  0.4  0.4  0.5  0.5  0.6  0.65 0.5  0.5  0.4  0.5\n",
            " 0.5  0.55]\n"
          ]
        }
      ]
    },
    {
      "cell_type": "code",
      "source": [
        "# === OVERALL ACCURACY ===\n",
        "overall_acc_vae = np.mean(y_pred_vae == y_test)\n",
        "overall_acc_cnn = np.mean((cnn_model.predict(z_test_cnn) > 0.5).astype(int) == y_test)\n",
        "overall_acc_latent = np.mean(y_pred_latent == y_test)\n",
        "overall_acc_fused = np.mean(y_fused == y_test)\n",
        "\n",
        "print(f\"Overall VAE Accuracy: {overall_acc_vae * 100:.2f}%\")\n",
        "print(f\"Overall CNN on Latent Accuracy: {overall_acc_cnn * 100:.2f}%\")\n",
        "print(f\"Overall XGBoost Latent Accuracy: {overall_acc_latent * 100:.2f}%\")\n",
        "print(f\"Overall VAE + XGBoost Fusion Accuracy: {overall_acc_fused * 100:.2f}%\")\n"
      ],
      "metadata": {
        "colab": {
          "base_uri": "https://localhost:8080/"
        },
        "id": "ayVQhqyIos3g",
        "outputId": "04b149be-1681-4b62-8cc5-300985a647a4"
      },
      "execution_count": 26,
      "outputs": [
        {
          "output_type": "stream",
          "name": "stdout",
          "text": [
            "\u001b[1m1/1\u001b[0m \u001b[32m━━━━━━━━━━━━━━━━━━━━\u001b[0m\u001b[37m\u001b[0m \u001b[1m0s\u001b[0m 87ms/step\n",
            "Overall VAE Accuracy: 49.49%\n",
            "Overall CNN on Latent Accuracy: 50.12%\n",
            "Overall XGBoost Latent Accuracy: 49.49%\n",
            "Overall VAE + XGBoost Fusion Accuracy: 49.26%\n"
          ]
        }
      ]
    },
    {
      "cell_type": "code",
      "source": [
        "# === PLOT BITWISE ACCURACY ===\n",
        "plt.plot(bitwise_acc_fused, marker='o')\n",
        "plt.title(\"Per-bit Accuracy (NEA1)\")\n",
        "plt.xlabel(\"Bit Index (0-127)\")\n",
        "plt.ylabel(\"Accuracy\")\n",
        "plt.grid(True)\n",
        "plt.show()"
      ],
      "metadata": {
        "colab": {
          "base_uri": "https://localhost:8080/",
          "height": 472
        },
        "id": "LLF7svOWobEn",
        "outputId": "553e9c43-783c-450d-88f0-e3a9448fc21e"
      },
      "execution_count": 25,
      "outputs": [
        {
          "output_type": "display_data",
          "data": {
            "text/plain": [
              "<Figure size 640x480 with 1 Axes>"
            ],
            "image/png": "[encoded data removed]"
          },
          "metadata": {}
        }
      ]
    }
  ]
}